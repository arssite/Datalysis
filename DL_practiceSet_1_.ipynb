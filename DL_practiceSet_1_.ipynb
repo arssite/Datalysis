{
  "nbformat": 4,
  "nbformat_minor": 0,
  "metadata": {
    "colab": {
      "provenance": [],
      "authorship_tag": "ABX9TyN/cuW64rmXU1APQ9fDFS6Z",
      "include_colab_link": true
    },
    "kernelspec": {
      "name": "python3",
      "display_name": "Python 3"
    },
    "language_info": {
      "name": "python"
    }
  },
  "cells": [
    {
      "cell_type": "markdown",
      "metadata": {
        "id": "view-in-github",
        "colab_type": "text"
      },
      "source": [
        "<a href=\"https://colab.research.google.com/github/arssite/Datalysis/blob/main/DL_practiceSet_1_.ipynb\" target=\"_parent\"><img src=\"https://colab.research.google.com/assets/colab-badge.svg\" alt=\"Open In Colab\"/></a>"
      ]
    },
    {
      "cell_type": "code",
      "execution_count": 2,
      "metadata": {
        "colab": {
          "base_uri": "https://localhost:8080/"
        },
        "id": "EVeqaQAeSrHC",
        "outputId": "0c7055d5-509c-4cca-83df-80ac5f526477"
      },
      "outputs": [
        {
          "output_type": "stream",
          "name": "stdout",
          "text": [
            "Weights: [-0.1  0.1]\n",
            "Bias: -0.1\n",
            "Predictions: [1 1 0 0 0]\n"
          ]
        }
      ],
      "source": [
        "# prompt: write a python program to implement a simple perceptron for binary classification.\n",
        "\n",
        "import numpy as np\n",
        "\n",
        "class Perceptron:\n",
        "  def __init__(self, learning_rate, n_iters):\n",
        "    self.lr = learning_rate\n",
        "    self.n_iters = n_iters\n",
        "    self.activation_func = self._unit_step_func\n",
        "    self.weights = None\n",
        "    self.bias = None\n",
        "\n",
        "  def fit(self, X, y):\n",
        "    n_samples, n_features = X.shape\n",
        "\n",
        "    # Initialize weights and bias\n",
        "    self.weights = np.zeros(n_features)\n",
        "    self.bias = 0\n",
        "\n",
        "    y_ = np.array([1 if i > 0 else 0 for i in y])\n",
        "\n",
        "    for _ in range(self.n_iters):\n",
        "      for i, x_i in enumerate(X):\n",
        "        linear_output = np.dot(x_i, self.weights) + self.bias\n",
        "        y_predicted = self.activation_func(linear_output)\n",
        "\n",
        "        # Update weights and bias\n",
        "        update = self.lr * (y_[i] - y_predicted)\n",
        "        self.weights += update * x_i\n",
        "        self.bias += update\n",
        "\n",
        "  def predict(self, X):\n",
        "    linear_output = np.dot(X, self.weights) + self.bias\n",
        "    y_predicted = self.activation_func(linear_output)\n",
        "    return y_predicted\n",
        "\n",
        "  def _unit_step_func(self, x):\n",
        "    return np.where(x >= 0, 1, 0)\n",
        "\n",
        "# Example usage\n",
        "X = np.array([[1, 2], [2, 3], [1, 1], [2, 2], [3, 1]])\n",
        "y = np.array([1, 1, 0, 0, 0])\n",
        "\n",
        "perceptron = Perceptron(learning_rate=0.1, n_iters=100)\n",
        "perceptron.fit(X, y)\n",
        "\n",
        "print(\"Weights:\", perceptron.weights)\n",
        "print(\"Bias:\", perceptron.bias)\n",
        "\n",
        "print(\"Predictions:\", perceptron.predict(X))\n"
      ]
    },
    {
      "cell_type": "code",
      "source": [
        "# prompt: function to perform forward propagation with one hidden layer\n",
        "\n",
        "def forward_propagation_one_hidden_layer(X, W1, b1, W2, b2):\n",
        "  \"\"\"\n",
        "  Performs forward propagation with one hidden layer.\n",
        "\n",
        "  Args:\n",
        "    X: Input data (n_samples, n_features)\n",
        "    W1: Weights for the first layer (n_features, n_hidden)\n",
        "    b1: Biases for the first layer (n_hidden,)\n",
        "    W2: Weights for the second layer (n_hidden, n_classes)\n",
        "    b2: Biases for the second layer (n_classes,)\n",
        "\n",
        "  Returns:\n",
        "    A2: Output of the second layer (n_samples, n_classes)\n",
        "  \"\"\"\n",
        "\n",
        "  # Calculate the output of the first layer\n",
        "  Z1 = np.dot(X, W1) + b1\n",
        "  A1 = np.tanh(Z1)\n",
        "\n",
        "  # Calculate the output of the second layer\n",
        "  Z2 = np.dot(A1, W2) + b2\n",
        "  A2 = 1 / (1 + np.exp(-Z2))\n",
        "\n",
        "  return A2\n"
      ],
      "metadata": {
        "id": "GeofUQJlS4Ca"
      },
      "execution_count": 1,
      "outputs": []
    },
    {
      "cell_type": "code",
      "source": [
        "# prompt: backpropagation for neural network with one hidden layer\n",
        "\n",
        "def backpropagation_one_hidden_layer(X, y, W1, b1, W2, b2, learning_rate):\n",
        "  \"\"\"\n",
        "  Performs backpropagation for a neural network with one hidden layer.\n",
        "\n",
        "  Args:\n",
        "    X: Input data (n_samples, n_features)\n",
        "    y: Target values (n_samples, n_classes)\n",
        "    W1: Weights for the first layer (n_features, n_hidden)\n",
        "    b1: Biases for the first layer (n_hidden,)\n",
        "    W2: Weights for the second layer (n_hidden, n_classes)\n",
        "    b2: Biases for the second layer (n_classes,)\n",
        "    learning_rate: Learning rate\n",
        "\n",
        "  Returns:\n",
        "    Updated weights and biases\n",
        "  \"\"\"\n",
        "\n",
        "  # Forward propagation\n",
        "  A2 = forward_propagation_one_hidden_layer(X, W1, b1, W2, b2)\n",
        "\n",
        "  # Calculate gradients\n",
        "  dZ2 = A2 - y\n",
        "  dW2 = np.dot(A1.T, dZ2) / X.shape[0]\n",
        "  db2 = np.sum(dZ2, axis=0) / X.shape[0]\n",
        "\n",
        "  dZ1 = np.dot(dZ2, W2.T) * (1 - np.power(A1, 2))\n",
        "  dW1 = np.dot(X.T, dZ1) / X.shape[0]\n",
        "  db1 = np.sum(dZ1, axis=0) / X.shape[0]\n",
        "\n",
        "  # Update weights and biases\n",
        "  W1 -= learning_rate * dW1\n",
        "  b1 -= learning_rate * db1\n",
        "  W2 -= learning_rate * dW2\n",
        "  b2 -= learning_rate * db2\n",
        "\n",
        "  return W1, b1, W2, b2\n"
      ],
      "metadata": {
        "id": "GGvtMOOdTDXq"
      },
      "execution_count": null,
      "outputs": []
    },
    {
      "cell_type": "code",
      "source": [
        "# prompt: implement Gradient Descent to minimize a aimple quadratic function\n",
        "\n",
        "import numpy as np\n",
        "\n",
        "def gradient_descent(f, df, x0, learning_rate=0.1, max_iter=100, tol=1e-6):\n",
        "  \"\"\"\n",
        "  Performs gradient descent to minimize a function.\n",
        "\n",
        "  Args:\n",
        "    f: The function to minimize.\n",
        "    df: The gradient of the function.\n",
        "    x0: The initial guess for the minimum.\n",
        "    learning_rate: The learning rate.\n",
        "    max_iter: The maximum number of iterations.\n",
        "    tol: The tolerance for convergence.\n",
        "\n",
        "  Returns:\n",
        "    x_min: The minimum of the function.\n",
        "  \"\"\"\n",
        "\n",
        "  x = x0\n",
        "  f_min = float('inf')\n",
        "\n",
        "  for i in range(max_iter):\n",
        "    gradient = df(x)\n",
        "    x = x - learning_rate * gradient\n",
        "    f_x = f(x)\n",
        "\n",
        "    if f_x < f_min:\n",
        "      f_min = f_x\n",
        "\n",
        "    if np.abs(f_min - f_x) < tol:\n",
        "      break\n",
        "\n",
        "  return x\n",
        "\n",
        "# Define the function and its gradient\n",
        "def f(x):\n",
        "  return x**2 + 5*x + 6\n",
        "\n",
        "def df(x):\n",
        "  return 2*x + 5\n",
        "\n",
        "# Find the minimum\n",
        "x_min = gradient_descent(f, df, x0=3.0)\n",
        "\n",
        "print(\"Minimum found at:\", x_min)\n",
        "print(\"Minimum value:\", f(x_min))\n"
      ],
      "metadata": {
        "colab": {
          "base_uri": "https://localhost:8080/"
        },
        "id": "s3DgFRvKTary",
        "outputId": "3c39fe6a-ecb8-40e6-8583-5f374d54bcc7"
      },
      "execution_count": 3,
      "outputs": [
        {
          "output_type": "stream",
          "name": "stdout",
          "text": [
            "Minimum found at: 1.9\n",
            "Minimum value: 19.11\n"
          ]
        }
      ]
    },
    {
      "cell_type": "code",
      "source": [
        "# prompt: implement a forward pass for simple cnn layer\n",
        "\n",
        "import numpy as np\n",
        "\n",
        "class Conv2D:\n",
        "  def __init__(self, kernel_size, stride, padding):\n",
        "    self.kernel_size = kernel_size\n",
        "    self.stride = stride\n",
        "    self.padding = padding\n",
        "    self.weights = None\n",
        "    self.bias = None\n",
        "\n",
        "  def initialize_weights(self, input_channels, output_channels):\n",
        "    self.weights = np.random.randn(output_channels, input_channels, self.kernel_size, self.kernel_size)\n",
        "    self.bias = np.zeros(output_channels)\n",
        "\n",
        "  def forward(self, X):\n",
        "    # Add padding to the input\n",
        "    X_padded = np.pad(X, ((0, 0), (0, 0), (self.padding, self.padding), (self.padding, self.padding)), mode='constant')\n",
        "\n",
        "    # Calculate the output shape\n",
        "    n_samples, n_channels, input_height, input_width = X.shape\n",
        "    output_height = (input_height + 2 * self.padding - self.kernel_size) // self.stride + 1\n",
        "    output_width = (input_width + 2 * self.padding - self.kernel_size) // self.stride + 1\n",
        "\n",
        "    # Initialize the output\n",
        "    Y = np.zeros((n_samples, self.weights.shape[0], output_height, output_width))\n",
        "\n",
        "    # Perform the convolution\n",
        "    for i in range(output_height):\n",
        "      for j in range(output_width):\n",
        "        for k in range(self.weights.shape[0]):\n",
        "          for l in range(self.weights.shape[1]):\n",
        "            Y[:, k, i, j] += np.sum(X_padded[:, l, i * self.stride:i * self.stride + self.kernel_size, j * self.stride:j * self.stride + self.kernel_size] * self.weights[k, l, :, :])\n",
        "\n",
        "    # Add the bias\n",
        "    Y += self.bias\n",
        "\n",
        "    return Y\n",
        "\n",
        "# Example usage\n",
        "X = np.random.randn(10, 3, 32, 32)\n",
        "\n",
        "conv_layer = Conv2D(kernel_size=3, stride=1, padding=1)\n",
        "conv_layer.initialize_weights(3, 8)\n",
        "\n",
        "Y = conv_layer.forward(X)\n",
        "\n",
        "print(\"Input shape:\", X.shape)\n",
        "print(\"Output shape:\", Y.shape)\n"
      ],
      "metadata": {
        "id": "xRcwKRisT28C"
      },
      "execution_count": null,
      "outputs": []
    },
    {
      "cell_type": "code",
      "source": [
        "# prompt: implement a simple RNN forward pass\n",
        "\n",
        "def rnn_forward(X, W, U, b, h_prev):\n",
        "  \"\"\"\n",
        "  Performs forward propagation for a simple RNN.\n",
        "\n",
        "  Args:\n",
        "    X: Input data (n_samples, n_timesteps, n_features)\n",
        "    W: Weights for the current input (n_features, n_hidden)\n",
        "    U: Weights for the previous hidden state (n_hidden, n_hidden)\n",
        "    b: Biases (n_hidden,)\n",
        "    h_prev: Previous hidden state (n_hidden,)\n",
        "\n",
        "  Returns:\n",
        "    h_next: Next hidden state (n_hidden,)\n",
        "  \"\"\"\n",
        "\n",
        "  # Calculate the next hidden state\n",
        "  h_next = np.tanh(np.dot(X, W) + np.dot(h_prev, U) + b)\n",
        "\n",
        "  return h_next\n",
        "\n",
        "# Example usage\n",
        "X = np.random.randn(10, 5, 3)\n",
        "W = np.random.randn(3, 4)\n",
        "U = np.random.randn(4, 4)\n",
        "b = np.random.randn(4)\n",
        "h_prev = np.zeros(4)\n",
        "\n",
        "h_next = rnn_forward(X, W, U, b, h_prev)\n",
        "\n",
        "print(\"Input shape:\", X.shape)\n",
        "print(\"Hidden state shape:\", h_next.shape)\n"
      ],
      "metadata": {
        "colab": {
          "base_uri": "https://localhost:8080/"
        },
        "id": "NjwBrL86UAGS",
        "outputId": "ec730a88-37b2-4b17-c68c-4aadc808545c"
      },
      "execution_count": 4,
      "outputs": [
        {
          "output_type": "stream",
          "name": "stdout",
          "text": [
            "Input shape: (10, 5, 3)\n",
            "Hidden state shape: (10, 5, 4)\n"
          ]
        }
      ]
    }
  ]
}