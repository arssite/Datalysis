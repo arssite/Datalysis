{
  "nbformat": 4,
  "nbformat_minor": 0,
  "metadata": {
    "colab": {
      "provenance": [],
      "authorship_tag": "ABX9TyPyIHTCxXY5ljkmOUBG6HGD",
      "include_colab_link": true
    },
    "kernelspec": {
      "name": "python3",
      "display_name": "Python 3"
    },
    "language_info": {
      "name": "python"
    }
  },
  "cells": [
    {
      "cell_type": "markdown",
      "metadata": {
        "id": "view-in-github",
        "colab_type": "text"
      },
      "source": [
        "<a href=\"https://colab.research.google.com/github/arssite/Datalysis/blob/main/DL_practiceSet_1_.ipynb\" target=\"_parent\"><img src=\"https://colab.research.google.com/assets/colab-badge.svg\" alt=\"Open In Colab\"/></a>"
      ]
    },
    {
      "cell_type": "code",
      "execution_count": 2,
      "metadata": {
        "colab": {
          "base_uri": "https://localhost:8080/"
        },
        "id": "EVeqaQAeSrHC",
        "outputId": "0c7055d5-509c-4cca-83df-80ac5f526477"
      },
      "outputs": [
        {
          "output_type": "stream",
          "name": "stdout",
          "text": [
            "Weights: [-0.1  0.1]\n",
            "Bias: -0.1\n",
            "Predictions: [1 1 0 0 0]\n"
          ]
        }
      ],
      "source": [
        "# prompt: write a python program to implement a simple perceptron for binary classification.\n",
        "\n",
        "import numpy as np\n",
        "\n",
        "class Perceptron:\n",
        "  def __init__(self, learning_rate, n_iters):\n",
        "    self.lr = learning_rate\n",
        "    self.n_iters = n_iters\n",
        "    self.activation_func = self._unit_step_func\n",
        "    self.weights = None\n",
        "    self.bias = None\n",
        "\n",
        "  def fit(self, X, y):\n",
        "    n_samples, n_features = X.shape\n",
        "\n",
        "    # Initialize weights and bias\n",
        "    self.weights = np.zeros(n_features)\n",
        "    self.bias = 0\n",
        "\n",
        "    y_ = np.array([1 if i > 0 else 0 for i in y])\n",
        "\n",
        "    for _ in range(self.n_iters):\n",
        "      for i, x_i in enumerate(X):\n",
        "        linear_output = np.dot(x_i, self.weights) + self.bias\n",
        "        y_predicted = self.activation_func(linear_output)\n",
        "\n",
        "        # Update weights and bias\n",
        "        update = self.lr * (y_[i] - y_predicted)\n",
        "        self.weights += update * x_i\n",
        "        self.bias += update\n",
        "\n",
        "  def predict(self, X):\n",
        "    linear_output = np.dot(X, self.weights) + self.bias\n",
        "    y_predicted = self.activation_func(linear_output)\n",
        "    return y_predicted\n",
        "\n",
        "  def _unit_step_func(self, x):\n",
        "    return np.where(x >= 0, 1, 0)\n",
        "\n",
        "# Example usage\n",
        "X = np.array([[1, 2], [2, 3], [1, 1], [2, 2], [3, 1]])\n",
        "y = np.array([1, 1, 0, 0, 0])\n",
        "\n",
        "perceptron = Perceptron(learning_rate=0.1, n_iters=100)\n",
        "perceptron.fit(X, y)\n",
        "\n",
        "print(\"Weights:\", perceptron.weights)\n",
        "print(\"Bias:\", perceptron.bias)\n",
        "\n",
        "print(\"Predictions:\", perceptron.predict(X))\n"
      ]
    },
    {
      "cell_type": "code",
      "source": [
        "# prompt: function to perform forward propagation with one hidden layer\n",
        "\n",
        "def forward_propagation_one_hidden_layer(X, W1, b1, W2, b2):\n",
        "  \"\"\"\n",
        "  Performs forward propagation with one hidden layer.\n",
        "\n",
        "  Args:\n",
        "    X: Input data (n_samples, n_features)\n",
        "    W1: Weights for the first layer (n_features, n_hidden)\n",
        "    b1: Biases for the first layer (n_hidden,)\n",
        "    W2: Weights for the second layer (n_hidden, n_classes)\n",
        "    b2: Biases for the second layer (n_classes,)\n",
        "\n",
        "  Returns:\n",
        "    A2: Output of the second layer (n_samples, n_classes)\n",
        "  \"\"\"\n",
        "\n",
        "  # Calculate the output of the first layer\n",
        "  Z1 = np.dot(X, W1) + b1\n",
        "  A1 = np.tanh(Z1)\n",
        "\n",
        "  # Calculate the output of the second layer\n",
        "  Z2 = np.dot(A1, W2) + b2\n",
        "  A2 = 1 / (1 + np.exp(-Z2))\n",
        "\n",
        "  return A2\n"
      ],
      "metadata": {
        "id": "GeofUQJlS4Ca"
      },
      "execution_count": 1,
      "outputs": []
    },
    {
      "cell_type": "code",
      "source": [
        "# prompt: backpropagation for neural network with one hidden layer\n",
        "\n",
        "def backpropagation_one_hidden_layer(X, y, W1, b1, W2, b2, learning_rate):\n",
        "  \"\"\"\n",
        "  Performs backpropagation for a neural network with one hidden layer.\n",
        "\n",
        "  Args:\n",
        "    X: Input data (n_samples, n_features)\n",
        "    y: Target values (n_samples, n_classes)\n",
        "    W1: Weights for the first layer (n_features, n_hidden)\n",
        "    b1: Biases for the first layer (n_hidden,)\n",
        "    W2: Weights for the second layer (n_hidden, n_classes)\n",
        "    b2: Biases for the second layer (n_classes,)\n",
        "    learning_rate: Learning rate\n",
        "\n",
        "  Returns:\n",
        "    Updated weights and biases\n",
        "  \"\"\"\n",
        "\n",
        "  # Forward propagation\n",
        "  A2 = forward_propagation_one_hidden_layer(X, W1, b1, W2, b2)\n",
        "\n",
        "  # Calculate gradients\n",
        "  dZ2 = A2 - y\n",
        "  dW2 = np.dot(A1.T, dZ2) / X.shape[0]\n",
        "  db2 = np.sum(dZ2, axis=0) / X.shape[0]\n",
        "\n",
        "  dZ1 = np.dot(dZ2, W2.T) * (1 - np.power(A1, 2))\n",
        "  dW1 = np.dot(X.T, dZ1) / X.shape[0]\n",
        "  db1 = np.sum(dZ1, axis=0) / X.shape[0]\n",
        "\n",
        "  # Update weights and biases\n",
        "  W1 -= learning_rate * dW1\n",
        "  b1 -= learning_rate * db1\n",
        "  W2 -= learning_rate * dW2\n",
        "  b2 -= learning_rate * db2\n",
        "\n",
        "  return W1, b1, W2, b2\n"
      ],
      "metadata": {
        "id": "GGvtMOOdTDXq"
      },
      "execution_count": null,
      "outputs": []
    },
    {
      "cell_type": "code",
      "source": [
        "# prompt: implement Gradient Descent to minimize a aimple quadratic function\n",
        "\n",
        "import numpy as np\n",
        "\n",
        "def gradient_descent(f, df, x0, learning_rate=0.1, max_iter=100, tol=1e-6):\n",
        "  \"\"\"\n",
        "  Performs gradient descent to minimize a function.\n",
        "\n",
        "  Args:\n",
        "    f: The function to minimize.\n",
        "    df: The gradient of the function.\n",
        "    x0: The initial guess for the minimum.\n",
        "    learning_rate: The learning rate.\n",
        "    max_iter: The maximum number of iterations.\n",
        "    tol: The tolerance for convergence.\n",
        "\n",
        "  Returns:\n",
        "    x_min: The minimum of the function.\n",
        "  \"\"\"\n",
        "\n",
        "  x = x0\n",
        "  f_min = float('inf')\n",
        "\n",
        "  for i in range(max_iter):\n",
        "    gradient = df(x)\n",
        "    x = x - learning_rate * gradient\n",
        "    f_x = f(x)\n",
        "\n",
        "    if f_x < f_min:\n",
        "      f_min = f_x\n",
        "\n",
        "    if np.abs(f_min - f_x) < tol:\n",
        "      break\n",
        "\n",
        "  return x\n",
        "\n",
        "# Define the function and its gradient\n",
        "def f(x):\n",
        "  return x**2 + 5*x + 6\n",
        "\n",
        "def df(x):\n",
        "  return 2*x + 5\n",
        "\n",
        "# Find the minimum\n",
        "x_min = gradient_descent(f, df, x0=3.0)\n",
        "\n",
        "print(\"Minimum found at:\", x_min)\n",
        "print(\"Minimum value:\", f(x_min))\n"
      ],
      "metadata": {
        "id": "s3DgFRvKTary"
      },
      "execution_count": null,
      "outputs": []
    }
  ]
}