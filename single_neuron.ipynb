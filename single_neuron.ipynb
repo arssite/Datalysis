{
  "nbformat": 4,
  "nbformat_minor": 0,
  "metadata": {
    "colab": {
      "provenance": [],
      "gpuType": "T4",
      "authorship_tag": "ABX9TyNMJQf9zTGvRsRf2MF2rZBM",
      "include_colab_link": true
    },
    "kernelspec": {
      "name": "python3",
      "display_name": "Python 3"
    },
    "language_info": {
      "name": "python"
    },
    "accelerator": "GPU"
  },
  "cells": [
    {
      "cell_type": "markdown",
      "metadata": {
        "id": "view-in-github",
        "colab_type": "text"
      },
      "source": [
        "<a href=\"https://colab.research.google.com/github/arssite/Datalysis/blob/main/single_neuron.ipynb\" target=\"_parent\"><img src=\"https://colab.research.google.com/assets/colab-badge.svg\" alt=\"Open In Colab\"/></a>"
      ]
    },
    {
      "cell_type": "markdown",
      "source": [
        "A single neuron is a fundamental unit of a neural network. It takes multiple inputs, multiplies them by corresponding weights, sums them up, adds a bias, and applies an activation function to produce an output.\n",
        "\n",
        "Steps involved:\n",
        "\n",
        "Input: The neuron receives multiple inputs (x1, x2, ... xn).\n",
        "Weights: Each input is associated with a weight (w1, w2, ... wn) representing its importance.\n",
        "Summation: The neuron calculates the weighted sum of inputs: (x1 * w1) + (x2 * w2) + ... + (xn * wn).\n",
        "Bias: A bias term (b) is added to the weighted sum to shift the activation function.\n",
        "Activation Function: A non-linear function (e.g., sigmoid, ReLU) is applied to the sum and bias to introduce non-linearity and determine the neuron's output.\n",
        "In real neural networks, multiple interconnected neurons form layers to process complex data."
      ],
      "metadata": {
        "id": "WQ_zdz0UYg-f"
      }
    },
    {
      "cell_type": "code",
      "execution_count": 3,
      "metadata": {
        "id": "Y10e3ysb-JTh"
      },
      "outputs": [],
      "source": [
        "import numpy as np"
      ]
    },
    {
      "cell_type": "code",
      "source": [
        "#x is weightedsum here\n",
        "#global function\n",
        "def sigmoid(x):\n",
        "  return 1/(1+np.exp(-x))"
      ],
      "metadata": {
        "id": "64nNlLNPYV0w"
      },
      "execution_count": 9,
      "outputs": []
    },
    {
      "cell_type": "code",
      "source": [
        "class Neuron:\n",
        "  def __init__(self, weights, bias):  #constructor\n",
        "  #self is refernce to object attribute (memory assign with refer to particular obj)\n",
        "    self.weights = weights\n",
        "    self.bias = bias\n",
        "    #instance variable\n",
        "  def feedforward(self, inputs):\n",
        "    total = np.dot(self.weights, inputs) + self.bias\n",
        "    return sigmoid(total)"
      ],
      "metadata": {
        "id": "09gEcoLTYvWg"
      },
      "execution_count": 7,
      "outputs": []
    },
    {
      "cell_type": "code",
      "source": [
        "w=np.array([0,1])\n",
        "b=4\n",
        "n=Neuron(w,b)\n",
        "print(n.feedforward(np.array([2,3])))"
      ],
      "metadata": {
        "colab": {
          "base_uri": "https://localhost:8080/"
        },
        "id": "Cdk3G9yQdHIR",
        "outputId": "707d52a8-e828-4f04-be88-4eb2b5b40333"
      },
      "execution_count": 8,
      "outputs": [
        {
          "output_type": "stream",
          "name": "stdout",
          "text": [
            "0.9990889488055994\n"
          ]
        }
      ]
    },
    {
      "cell_type": "markdown",
      "source": [
        "# Alternate without class"
      ],
      "metadata": {
        "id": "iOEBY0DOaVBQ"
      }
    },
    {
      "source": [
        "import numpy as np\n",
        "\n",
        "def neuron(inputs, weights, bias):\n",
        "  weighted_sum = np.dot(inputs, weights) + bias\n",
        "  output = 1 / (1 + np.exp(-weighted_sum))\n",
        "  return output"
      ],
      "cell_type": "code",
      "metadata": {
        "id": "HhMftOcoaP0X"
      },
      "execution_count": 6,
      "outputs": []
    },
    {
      "cell_type": "code",
      "source": [
        "neuron(np.array([2,3]), np.array([0,1]), 4)"
      ],
      "metadata": {
        "colab": {
          "base_uri": "https://localhost:8080/"
        },
        "id": "g01JHpqdbzB2",
        "outputId": "9b2e9224-bd15-4d93-983e-79054049d6fd"
      },
      "execution_count": 9,
      "outputs": [
        {
          "output_type": "execute_result",
          "data": {
            "text/plain": [
              "0.9990889488055994"
            ]
          },
          "metadata": {},
          "execution_count": 9
        }
      ]
    }
  ]
}