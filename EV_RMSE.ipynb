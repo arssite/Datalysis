{
  "nbformat": 4,
  "nbformat_minor": 0,
  "metadata": {
    "colab": {
      "provenance": [],
      "gpuType": "T4",
      "authorship_tag": "ABX9TyNKEljtBIgkdVafTW55/E4/",
      "include_colab_link": true
    },
    "kernelspec": {
      "name": "python3",
      "display_name": "Python 3"
    },
    "language_info": {
      "name": "python"
    },
    "accelerator": "GPU"
  },
  "cells": [
    {
      "cell_type": "markdown",
      "metadata": {
        "id": "view-in-github",
        "colab_type": "text"
      },
      "source": [
        "<a href=\"https://colab.research.google.com/github/arssite/Datalysis/blob/main/EV_RMSE.ipynb\" target=\"_parent\"><img src=\"https://colab.research.google.com/assets/colab-badge.svg\" alt=\"Open In Colab\"/></a>"
      ]
    },
    {
      "cell_type": "code",
      "execution_count": 4,
      "metadata": {
        "id": "X-1CN0q4NfxF"
      },
      "outputs": [],
      "source": [
        "from zipfile import ZipFile\n",
        "import pandas as pd\n",
        "\n",
        "# Unzip and load the files\n",
        "with ZipFile('/content/Dataset.zip', 'r') as zip_ref:\n",
        "    zip_ref.extractall('/content')\n",
        "\n",
        "# Load datasets\n",
        "train_df = pd.read_csv('/content/Dataset/Train.csv')\n",
        "test_df = pd.read_csv('/content/Dataset/Test.csv')\n",
        "submission_df = pd.read_csv('/content/Dataset/submission.csv')\n"
      ]
    },
    {
      "cell_type": "code",
      "source": [
        "# Basic EDA\n",
        "print(train_df.head())\n",
        "print(train_df.info())\n",
        "print(train_df.describe())\n",
        "print(train_df.isnull().sum())\n",
        "\n",
        "# Drop columns not useful for modeling (like IDs or names)\n",
        "useless_columns = ['ID', 'Model_Name'] if 'Model_Name' in train_df.columns else ['ID']\n",
        "train_df.drop(columns=useless_columns, inplace=True, errors='ignore')\n",
        "test_df.drop(columns=useless_columns, inplace=True, errors='ignore')\n",
        "\n",
        "# Impute missing values\n",
        "train_df.fillna(train_df.median(numeric_only=True), inplace=True)\n",
        "test_df.fillna(test_df.median(numeric_only=True), inplace=True)\n",
        "\n",
        "# Encode categorical features\n",
        "cat_cols = train_df.select_dtypes(include='object').columns\n",
        "train_df = pd.get_dummies(train_df, columns=cat_cols)\n",
        "test_df = pd.get_dummies(test_df, columns=cat_cols)\n",
        "\n",
        "# Align train and test\n",
        "train_df, test_df = train_df.align(test_df, join='left', axis=1, fill_value=0)\n"
      ],
      "metadata": {
        "colab": {
          "base_uri": "https://localhost:8080/"
        },
        "id": "u0nmWrZbNxCK",
        "outputId": "b048d571-85bc-4cb1-be58-dcae62a8694b"
      },
      "execution_count": 5,
      "outputs": [
        {
          "output_type": "stream",
          "name": "stdout",
          "text": [
            "   Unnamed: 0  VIN (1-10)     County         City State  Postal Code  \\\n",
            "0           0  5YJSA1DN0C   Thurston      Olympia    WA      98502.0   \n",
            "1           1  WBY1Z6C30H       King     Bellevue    WA      98004.0   \n",
            "2           2  WBY7Z6C52J       King         Kent    WA      98031.0   \n",
            "3           3  WBY1Z2C58F       King  Woodinville    WA      98072.0   \n",
            "4           4  5YJSA1E45G  Snohomish      Bothell    WA      98012.0   \n",
            "\n",
            "   Model Year   Make    Model           Electric Vehicle Type  \\\n",
            "0        2012  TESLA  MODEL S  Battery Electric Vehicle (BEV)   \n",
            "1        2017    BMW       I3  Battery Electric Vehicle (BEV)   \n",
            "2        2018    BMW       I3  Battery Electric Vehicle (BEV)   \n",
            "3        2015    BMW       I3  Battery Electric Vehicle (BEV)   \n",
            "4        2016  TESLA  MODEL S  Battery Electric Vehicle (BEV)   \n",
            "\n",
            "  Clean Alternative Fuel Vehicle (CAFV) Eligibility  Base MSRP  \\\n",
            "0           Clean Alternative Fuel Vehicle Eligible    59900.0   \n",
            "1           Clean Alternative Fuel Vehicle Eligible        0.0   \n",
            "2           Clean Alternative Fuel Vehicle Eligible        0.0   \n",
            "3           Clean Alternative Fuel Vehicle Eligible        0.0   \n",
            "4           Clean Alternative Fuel Vehicle Eligible        0.0   \n",
            "\n",
            "   Legislative District  DOL Vehicle ID             Vehicle Location  \\\n",
            "0                  22.0       186637195  POINT (-122.92333 47.03779)   \n",
            "1                  48.0       196789610   POINT (-122.1872 47.61001)   \n",
            "2                  11.0       221792728  POINT (-122.17743 47.41185)   \n",
            "3                  45.0       135735155  POINT (-122.15545 47.75448)   \n",
            "4                   1.0       477081811  POINT (-122.21061 47.83448)   \n",
            "\n",
            "                                Electric Utility  2020 Census Tract  \\\n",
            "0                         PUGET SOUND ENERGY INC       5.306701e+10   \n",
            "1  PUGET SOUND ENERGY INC||CITY OF TACOMA - (WA)       5.303302e+10   \n",
            "2  PUGET SOUND ENERGY INC||CITY OF TACOMA - (WA)       5.303303e+10   \n",
            "3  PUGET SOUND ENERGY INC||CITY OF TACOMA - (WA)       5.303302e+10   \n",
            "4                         PUGET SOUND ENERGY INC       5.306105e+10   \n",
            "\n",
            "   Electric_Range  \n",
            "0           265.0  \n",
            "1            81.0  \n",
            "2           114.0  \n",
            "3            81.0  \n",
            "4           210.0  \n",
            "<class 'pandas.core.frame.DataFrame'>\n",
            "RangeIndex: 9290 entries, 0 to 9289\n",
            "Data columns (total 18 columns):\n",
            " #   Column                                             Non-Null Count  Dtype  \n",
            "---  ------                                             --------------  -----  \n",
            " 0   Unnamed: 0                                         9290 non-null   int64  \n",
            " 1   VIN (1-10)                                         9290 non-null   object \n",
            " 2   County                                             9290 non-null   object \n",
            " 3   City                                               9290 non-null   object \n",
            " 4   State                                              9290 non-null   object \n",
            " 5   Postal Code                                        9290 non-null   float64\n",
            " 6   Model Year                                         9290 non-null   int64  \n",
            " 7   Make                                               9290 non-null   object \n",
            " 8   Model                                              9290 non-null   object \n",
            " 9   Electric Vehicle Type                              9290 non-null   object \n",
            " 10  Clean Alternative Fuel Vehicle (CAFV) Eligibility  9290 non-null   object \n",
            " 11  Base MSRP                                          9290 non-null   float64\n",
            " 12  Legislative District                               9290 non-null   float64\n",
            " 13  DOL Vehicle ID                                     9290 non-null   int64  \n",
            " 14  Vehicle Location                                   9290 non-null   object \n",
            " 15  Electric Utility                                   9290 non-null   object \n",
            " 16  2020 Census Tract                                  9290 non-null   float64\n",
            " 17  Electric_Range                                     9290 non-null   float64\n",
            "dtypes: float64(5), int64(3), object(10)\n",
            "memory usage: 1.3+ MB\n",
            "None\n",
            "        Unnamed: 0   Postal Code   Model Year      Base MSRP  \\\n",
            "count  9290.000000   9290.000000  9290.000000    9290.000000   \n",
            "mean   4668.702799  98266.819699  2017.208611    4793.712594   \n",
            "std    2695.810789    302.658931     3.087689   16665.760154   \n",
            "min       0.000000  98001.000000  2002.000000       0.000000   \n",
            "25%    2335.250000  98055.000000  2016.000000       0.000000   \n",
            "50%    4666.500000  98125.000000  2017.000000       0.000000   \n",
            "75%    7002.750000  98372.000000  2019.000000       0.000000   \n",
            "max    9348.000000  99403.000000  2025.000000  845000.000000   \n",
            "\n",
            "       Legislative District  DOL Vehicle ID  2020 Census Tract  Electric_Range  \n",
            "count           9290.000000    9.290000e+03       9.290000e+03     9290.000000  \n",
            "mean              30.276534    2.170302e+08       5.303946e+10      109.140689  \n",
            "std               14.286424    9.363021e+07       1.629599e+07       83.453765  \n",
            "min                1.000000    6.109200e+04       5.300195e+10        6.000000  \n",
            "25%               20.000000    1.504828e+08       5.303301e+10       29.000000  \n",
            "50%               34.000000    2.157801e+08       5.303303e+10       93.000000  \n",
            "75%               43.000000    2.695538e+08       5.305307e+10      210.000000  \n",
            "max               49.000000    4.789244e+08       5.307794e+10      337.000000  \n",
            "Unnamed: 0                                           0\n",
            "VIN (1-10)                                           0\n",
            "County                                               0\n",
            "City                                                 0\n",
            "State                                                0\n",
            "Postal Code                                          0\n",
            "Model Year                                           0\n",
            "Make                                                 0\n",
            "Model                                                0\n",
            "Electric Vehicle Type                                0\n",
            "Clean Alternative Fuel Vehicle (CAFV) Eligibility    0\n",
            "Base MSRP                                            0\n",
            "Legislative District                                 0\n",
            "DOL Vehicle ID                                       0\n",
            "Vehicle Location                                     0\n",
            "Electric Utility                                     0\n",
            "2020 Census Tract                                    0\n",
            "Electric_Range                                       0\n",
            "dtype: int64\n"
          ]
        }
      ]
    },
    {
      "cell_type": "code",
      "source": [
        "from sklearn.model_selection import train_test_split\n",
        "from sklearn.ensemble import RandomForestRegressor\n",
        "from sklearn.metrics import mean_squared_error\n",
        "import numpy as np\n",
        "\n",
        "# Define features and target\n",
        "X = train_df.drop('Electric_Range', axis=1)\n",
        "y = train_df['Electric_Range']\n",
        "\n",
        "# Split for local validation\n",
        "X_train, X_val, y_train, y_val = train_test_split(X, y, test_size=0.2, random_state=42)\n",
        "\n",
        "# Random Forest as baseline\n",
        "model = RandomForestRegressor(n_estimators=100, random_state=42)\n",
        "model.fit(X_train, y_train)\n",
        "y_pred = model.predict(X_val)\n",
        "rmse = np.sqrt(mean_squared_error(y_val, y_pred))\n",
        "print(f\"Validation RMSE: {rmse}\")\n"
      ],
      "metadata": {
        "colab": {
          "base_uri": "https://localhost:8080/"
        },
        "id": "WvUvw3L2OILS",
        "outputId": "02e05b85-b83f-4224-8d45-58622550aa07"
      },
      "execution_count": 6,
      "outputs": [
        {
          "output_type": "stream",
          "name": "stdout",
          "text": [
            "Validation RMSE: 1.1415062377623595\n"
          ]
        }
      ]
    },
    {
      "cell_type": "code",
      "source": [
        "from sklearn.model_selection import RandomizedSearchCV\n",
        "\n",
        "param_grid = {\n",
        "    'n_estimators': [100, 200, 300],\n",
        "    'max_depth': [10, 20, None],\n",
        "    'min_samples_split': [2, 5],\n",
        "}\n",
        "\n",
        "search = RandomizedSearchCV(\n",
        "    RandomForestRegressor(random_state=42),\n",
        "    param_distributions=param_grid,\n",
        "    n_iter=10,\n",
        "    cv=3,\n",
        "    scoring='neg_root_mean_squared_error',\n",
        "    verbose=1,\n",
        "    n_jobs=-1\n",
        ")\n",
        "search.fit(X, y)\n",
        "best_model = search.best_estimator_\n"
      ],
      "metadata": {
        "colab": {
          "base_uri": "https://localhost:8080/"
        },
        "id": "TTz_E_snOLA7",
        "outputId": "1307aee0-1165-4c41-9d40-bcd6cfd3fe37"
      },
      "execution_count": 7,
      "outputs": [
        {
          "output_type": "stream",
          "name": "stdout",
          "text": [
            "Fitting 3 folds for each of 10 candidates, totalling 30 fits\n"
          ]
        }
      ]
    },
    {
      "cell_type": "code",
      "source": [
        "# Use the best model for prediction\n",
        "# Drop the target column from the test set if it exists\n",
        "if 'Electric_Range' in test_df.columns:\n",
        "    test_df = test_df.drop(columns=['Electric_Range'])\n",
        "\n",
        "final_preds = best_model.predict(test_df)\n",
        "\n",
        "# Create submission\n",
        "submission_df['Electric_Range'] = final_preds\n",
        "submission_df.to_csv('final_submission.csv', index=False)"
      ],
      "metadata": {
        "id": "oWGWqL_fSgWb"
      },
      "execution_count": 9,
      "outputs": []
    },
    {
      "cell_type": "code",
      "source": [],
      "metadata": {
        "id": "SaA-GzHzSP04"
      },
      "execution_count": null,
      "outputs": []
    }
  ]
}