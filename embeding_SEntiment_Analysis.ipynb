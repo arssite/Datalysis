{
  "nbformat": 4,
  "nbformat_minor": 0,
  "metadata": {
    "colab": {
      "provenance": [],
      "authorship_tag": "ABX9TyNZJKYymOQEqvLbnVrr+B/f",
      "include_colab_link": true
    },
    "kernelspec": {
      "name": "python3",
      "display_name": "Python 3"
    },
    "language_info": {
      "name": "python"
    }
  },
  "cells": [
    {
      "cell_type": "markdown",
      "metadata": {
        "id": "view-in-github",
        "colab_type": "text"
      },
      "source": [
        "<a href=\"https://colab.research.google.com/github/arssite/Datalysis/blob/main/embeding_SEntiment_Analysis.ipynb\" target=\"_parent\"><img src=\"https://colab.research.google.com/assets/colab-badge.svg\" alt=\"Open In Colab\"/></a>"
      ]
    },
    {
      "cell_type": "markdown",
      "source": [
        "# Embedding\n",
        "It is a technique in deep learning used to represent categorical variables as vectors of real numbers. This allows the model to learn relationships between different categories and use them for prediction or classification tasks.\n",
        "\n",
        "Benefits of using embedding:\n",
        "\n",
        "Reduced dimensionality: Embeddings are typically lower-dimensional than the original categorical variables, which can improve computational efficiency and reduce overfitting.\n",
        "Improved interpretability: Embeddings can be visualized to understand the relationships between different categories.\n",
        "Increased flexibility: Embeddings can be used with a variety of deep learning models, including convolutional neural networks (CNNs) and recurrent neural networks (RNNs).\n",
        "How embedding works:\n",
        "\n",
        "One-hot encoding: The first step is to convert the categorical variables into one-hot encoded vectors. This means that each category is represented by a vector of zeros, except for the position corresponding to the category, which is set to 1.\n",
        "Embedding layer: The one-hot encoded vectors are then passed through an embedding layer. This layer is a neural network that learns a mapping from the one-hot encoded vectors to a lower-dimensional space.\n",
        "Output: The output of the embedding layer is a vector of real numbers for each category. These vectors can then be used as input to other deep learning models.\n",
        "Applications of embedding:\n",
        "\n",
        "Natural language processing: Embeddings are commonly used in natural language processing tasks such as sentiment analysis, text classification, and machine translation.\n",
        "Computer vision: Embeddings can also be used in computer vision tasks such as image classification and object detection.\n",
        "Recommendation systems: Embeddings can be used to learn user preferences and recommend items that the user is likely to be interested in."
      ],
      "metadata": {
        "id": "zZXM7oHyrC_S"
      }
    },
    {
      "cell_type": "code",
      "execution_count": 1,
      "metadata": {
        "id": "uYxEVxf-qoMY"
      },
      "outputs": [],
      "source": [
        "import numpy as np\n",
        "docs = [\n",
        "    \"The quick brown fox jumps over the lazy dog.\",\n",
        "    \"Lorem ipsum dolor sit amet, consectetur adipiscing elit.\",\n",
        "    \"Python is a high-level programming language.\",\n",
        "    \"Stack Overflow is a question and answer website for professional and enthusiast programmers.\",\n",
        "    \"Artificial intelligence is reshaping industries across the globe.\",\n",
        "    \"The universe is vast and full of mysteries.\",\n",
        "    \"Climate change is a pressing issue that requires global cooperation.\",\n",
        "    \"The sun rises in the east and sets in the west.\",\n",
        "    \"Music has the power to evoke strong emotions.\",\n",
        "    \"Education is the key to unlocking opportunities.\",\n",
        "    \"Health is wealth.\",\n",
        "    \"The journey of a thousand miles begins with a single step.\",\n",
        "    \"Reading is to the mind what exercise is to the body.\",\n",
        "    \"Life is like a box of chocolates; you never know what you're gonna get.\",\n",
        "    \"Laughter is the best medicine.\",\n",
        "    \"The only way to do great work is to love what you do.\",\n",
        "    \"Success is not final, failure is not fatal: It is the courage to continue that counts.\",\n",
        "    \"Believe you can and you're halfway there.\",\n",
        "    \"Yesterday is history, tomorrow is a mystery, but today is a gift. That is why it is called the present.\",\n",
        "    \"Happiness is not something ready made. It comes from your own actions.\",\n",
        "    \"Be yourself; everyone else is already taken.\",\n",
        "    \"In three words I can sum up everything I've learned about life: it goes on.\",\n",
        "    \"To be yourself in a world that is constantly trying to make you something else is the greatest accomplishment.\",\n",
        "    \"Life is either a daring adventure or nothing at all.\",\n",
        "    \"Success is not the key to happiness. Happiness is the key to success. If you love what you are doing, you will be successful.\",\n",
        "    \"Don't cry because it's over, smile because it happened.\"\n",
        "]"
      ]
    },
    {
      "cell_type": "code",
      "source": [
        "from keras.preprocessing.text import Tokenizer\n",
        "token=Tokenizer()"
      ],
      "metadata": {
        "id": "9ISyNnIWquKi"
      },
      "execution_count": 3,
      "outputs": []
    },
    {
      "cell_type": "code",
      "source": [],
      "metadata": {
        "id": "6szSJJr2qx_p"
      },
      "execution_count": null,
      "outputs": []
    }
  ]
}