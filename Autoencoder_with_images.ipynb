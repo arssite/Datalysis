{
  "nbformat": 4,
  "nbformat_minor": 0,
  "metadata": {
    "colab": {
      "provenance": [],
      "authorship_tag": "ABX9TyMHmss+SH5fZRphv37sFZkd",
      "include_colab_link": true
    },
    "kernelspec": {
      "name": "python3",
      "display_name": "Python 3"
    },
    "language_info": {
      "name": "python"
    }
  },
  "cells": [
    {
      "cell_type": "markdown",
      "metadata": {
        "id": "view-in-github",
        "colab_type": "text"
      },
      "source": [
        "<a href=\"https://colab.research.google.com/github/arssite/Datalysis/blob/main/Autoencoder_with_images.ipynb\" target=\"_parent\"><img src=\"https://colab.research.google.com/assets/colab-badge.svg\" alt=\"Open In Colab\"/></a>"
      ]
    },
    {
      "cell_type": "code",
      "execution_count": null,
      "metadata": {
        "id": "IR4JsnUJsByn"
      },
      "outputs": [],
      "source": [
        "%matplotlib inline\n",
        "from matplotlib import pyplot as plt\n",
        "import pickle\n",
        "import numpy as np\n",
        "from autoencoder import Autoencoder"
      ]
    },
    {
      "cell_type": "code",
      "source": [
        "def unpickle(file):\n",
        "    fo = open(file, 'rb')\n",
        "    dict = pickle.load(fo, encoding='latin1')\n",
        "    fo.close()\n",
        "    return dict\n",
        "\n",
        "def grayscale(a):\n",
        "    return a.reshape(a.shape[0], 3, 32, 32).mean(1).reshape(a.shape[0], -1)"
      ],
      "metadata": {
        "id": "MCX26D8_sGeq"
      },
      "execution_count": null,
      "outputs": []
    },
    {
      "cell_type": "code",
      "source": [
        "names = unpickle('./cifar-10-batches-py/batches.meta')['label_names']\n",
        "data, labels = [], []\n",
        "for i in range(1, 6):\n",
        "    filename = './cifar-10-batches-py/data_batch_' + str(i)\n",
        "    batch_data = unpickle(filename)\n",
        "    if len(data) > 0:\n",
        "        data = np.vstack((data, batch_data['data']))\n",
        "        labels = np.hstack((labels, batch_data['labels']))\n",
        "    else:\n",
        "        data = batch_data['data']\n",
        "        labels = batch_data['labels']\n",
        "\n",
        "data = grayscale(data)\n",
        "x = np.matrix(data)\n",
        "y = np.array(labels)\n",
        "Train the autoencoder on images of horses:\n",
        "\n",
        "horse_indices = np.where(y == 7)[0]\n",
        "horse_x = x[horse_indices]\n",
        "print(np.shape(horse_x))  # (5000, 3072)\n",
        "\n",
        "print('Some examples of horse images we will feed to the autoencoder for training')\n",
        "plt.rcParams['figure.figsize'] = (10, 10)\n",
        "num_examples = 5\n",
        "for i in range(num_examples):\n",
        "    horse_img = np.reshape(horse_x[i, :], (32, 32))\n",
        "    plt.subplot(1, num_examples, i+1)\n",
        "    plt.imshow(horse_img, cmap='Greys_r')\n",
        "plt.show()\n",
        " #https://www.cs.toronto.edu/~kriz/cifar.html. T"
      ],
      "metadata": {
        "id": "tHKcRpPksJXd"
      },
      "execution_count": null,
      "outputs": []
    },
    {
      "cell_type": "code",
      "source": [
        "names = unpickle('./cifar-10-batches-py/batches.meta')['label_names']\n",
        "data, labels = [], []\n",
        "for i in range(1, 6):\n",
        "    filename = './cifar-10-batches-py/data_batch_' + str(i)\n",
        "    batch_data = unpickle(filename)\n",
        "    if len(data) > 0:\n",
        "        data = np.vstack((data, batch_data['data']))\n",
        "        labels = np.hstack((labels, batch_data['labels']))\n",
        "    else:\n",
        "        data = batch_data['data']\n",
        "        labels = batch_data['labels']\n",
        "\n",
        "data = grayscale(data)\n",
        "x = np.matrix(data)\n",
        "y = np.array(labels)"
      ],
      "metadata": {
        "id": "_S1h5whrsNd7"
      },
      "execution_count": null,
      "outputs": []
    },
    {
      "cell_type": "code",
      "source": [
        "horse_indices = np.where(y == 7)[0]\n",
        "horse_x = x[horse_indices]\n",
        "print(np.shape(horse_x))  # (5000, 3072)\n",
        "\n",
        "print('Some examples of horse images we will feed to the autoencoder for training')\n",
        "plt.rcParams['figure.figsize'] = (10, 10)\n",
        "num_examples = 5\n",
        "for i in range(num_examples):\n",
        "    horse_img = np.reshape(horse_x[i, :], (32, 32))\n",
        "    plt.subplot(1, num_examples, i+1)\n",
        "    plt.imshow(horse_img, cmap='Greys_r')\n",
        "plt.show()"
      ],
      "metadata": {
        "id": "IhjUZ751sRdp"
      },
      "execution_count": null,
      "outputs": []
    },
    {
      "cell_type": "code",
      "source": [
        "input_dim = np.shape(horse_x)[1]\n",
        "hidden_dim = 100\n",
        "ae = Autoencoder(input_dim, hidden_dim)\n",
        "ae.train(horse_x)"
      ],
      "metadata": {
        "id": "OJaDZ15zsTZi"
      },
      "execution_count": null,
      "outputs": []
    },
    {
      "cell_type": "code",
      "source": [
        "test_data = unpickle('./cifar-10-batches-py/test_batch')\n",
        "test_x = grayscale(test_data['data'])\n",
        "test_labels = np.array(test_data['labels'])\n",
        "encodings = ae.classify(test_x, test_labels)"
      ],
      "metadata": {
        "id": "-60dHPCgsWVx"
      },
      "execution_count": null,
      "outputs": []
    }
  ]
}