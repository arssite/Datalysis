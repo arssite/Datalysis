{
  "nbformat": 4,
  "nbformat_minor": 0,
  "metadata": {
    "colab": {
      "provenance": [],
      "authorship_tag": "ABX9TyOG3rXP+LtRUVwDzZBzVy2G",
      "include_colab_link": true
    },
    "kernelspec": {
      "name": "python3",
      "display_name": "Python 3"
    },
    "language_info": {
      "name": "python"
    }
  },
  "cells": [
    {
      "cell_type": "markdown",
      "metadata": {
        "id": "view-in-github",
        "colab_type": "text"
      },
      "source": [
        "<a href=\"https://colab.research.google.com/github/arssite/Datalysis/blob/main/DEEP_RNN.ipynb\" target=\"_parent\"><img src=\"https://colab.research.google.com/assets/colab-badge.svg\" alt=\"Open In Colab\"/></a>"
      ]
    },
    {
      "cell_type": "code",
      "execution_count": 3,
      "metadata": {
        "id": "S-8BMnx-a8xc"
      },
      "outputs": [],
      "source": [
        "import tensorflow as tf\n",
        "from tensorflow.keras.datasets import imdb\n",
        "from tensorflow.keras.preprocessing.sequence import pad_sequences\n",
        "from tensorflow.keras.models import Sequential\n",
        "from tensorflow.keras.layers import Embedding,SimpleRNN,Dense,LSTM,GRU\n",
        "\n"
      ]
    },
    {
      "cell_type": "code",
      "source": [
        "(x_train,y_train),(x_test,y_test)=imdb.load_data(num_words=10000)"
      ],
      "metadata": {
        "colab": {
          "base_uri": "https://localhost:8080/"
        },
        "id": "5tWZdIOzgbP9",
        "outputId": "5918cc01-9135-41cc-dea7-fb03fa56b27b"
      },
      "execution_count": 4,
      "outputs": [
        {
          "output_type": "stream",
          "name": "stdout",
          "text": [
            "Downloading data from https://storage.googleapis.com/tensorflow/tf-keras-datasets/imdb.npz\n",
            "17464789/17464789 [==============================] - 0s 0us/step\n"
          ]
        }
      ]
    },
    {
      "cell_type": "code",
      "source": [
        "x_train=pad_sequences(x_train,maxlen=100)\n",
        "x_test=pad_sequences(x_test,maxlen=100)\n"
      ],
      "metadata": {
        "id": "oz8zUdIihMad"
      },
      "execution_count": 5,
      "outputs": []
    },
    {
      "cell_type": "code",
      "source": [
        "#deep Rnn as 2 rnn used\n",
        "model=Sequential([Embedding(10000,32,input_length=100),\n",
        "                  SimpleRNN(5,return_sequences=True),\n",
        "                  SimpleRNN(5),\n",
        "                  Dense(1,activation='sigmoid')])#BInaryClassificatiom"
      ],
      "metadata": {
        "id": "s3AgHl6vhbKM"
      },
      "execution_count": 7,
      "outputs": []
    },
    {
      "cell_type": "code",
      "source": [
        "model.summary()"
      ],
      "metadata": {
        "colab": {
          "base_uri": "https://localhost:8080/"
        },
        "id": "vJqrA5MGiKgc",
        "outputId": "2f3036e0-570a-4d30-9793-f63b7bf64d3c"
      },
      "execution_count": 8,
      "outputs": [
        {
          "output_type": "stream",
          "name": "stdout",
          "text": [
            "Model: \"sequential\"\n",
            "_________________________________________________________________\n",
            " Layer (type)                Output Shape              Param #   \n",
            "=================================================================\n",
            " embedding_1 (Embedding)     (None, 100, 32)           320000    \n",
            "                                                                 \n",
            " simple_rnn_2 (SimpleRNN)    (None, 100, 5)            190       \n",
            "                                                                 \n",
            " simple_rnn_3 (SimpleRNN)    (None, 5)                 55        \n",
            "                                                                 \n",
            " dense_1 (Dense)             (None, 1)                 6         \n",
            "                                                                 \n",
            "=================================================================\n",
            "Total params: 320251 (1.22 MB)\n",
            "Trainable params: 320251 (1.22 MB)\n",
            "Non-trainable params: 0 (0.00 Byte)\n",
            "_________________________________________________________________\n"
          ]
        }
      ]
    },
    {
      "cell_type": "code",
      "source": [
        "model.compile(optimizer='adam',loss='binary_crossentropy',metrics=['accuracy'])"
      ],
      "metadata": {
        "id": "YlzbCb1CjKJE"
      },
      "execution_count": 9,
      "outputs": []
    },
    {
      "cell_type": "code",
      "source": [
        "his=model.fit(x_train,y_train,epochs=5,batch_size=32,validation_split=0.2)"
      ],
      "metadata": {
        "colab": {
          "base_uri": "https://localhost:8080/"
        },
        "id": "h7Lf5JWRlb80",
        "outputId": "407e1f34-cc3d-421e-ab5e-d2a0cfb044c1"
      },
      "execution_count": null,
      "outputs": [
        {
          "output_type": "stream",
          "name": "stdout",
          "text": [
            "Epoch 1/5\n",
            "625/625 [==============================] - 32s 48ms/step - loss: 0.5688 - accuracy: 0.6909 - val_loss: 0.4465 - val_accuracy: 0.8052\n",
            "Epoch 2/5\n",
            "625/625 [==============================] - 29s 47ms/step - loss: 0.3545 - accuracy: 0.8564 - val_loss: 0.4150 - val_accuracy: 0.8194\n",
            "Epoch 3/5\n",
            "625/625 [==============================] - 29s 46ms/step - loss: 0.2443 - accuracy: 0.9106 - val_loss: 0.4438 - val_accuracy: 0.8126\n",
            "Epoch 4/5\n",
            "625/625 [==============================] - 29s 47ms/step - loss: 0.1538 - accuracy: 0.9511 - val_loss: 0.4944 - val_accuracy: 0.8090\n",
            "Epoch 5/5\n",
            "625/625 [==============================] - 30s 47ms/step - loss: 0.1127 - accuracy: 0.9653 - val_loss: 0.5863 - val_accuracy: 0.7920\n"
          ]
        }
      ]
    },
    {
      "cell_type": "code",
      "source": [],
      "metadata": {
        "id": "G5vr-6jMln58"
      },
      "execution_count": null,
      "outputs": []
    }
  ]
}