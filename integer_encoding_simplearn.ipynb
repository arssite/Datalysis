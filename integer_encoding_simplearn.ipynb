{
  "nbformat": 4,
  "nbformat_minor": 0,
  "metadata": {
    "colab": {
      "provenance": [],
      "authorship_tag": "ABX9TyM4nC0OADdc/+Xntni4dc3X",
      "include_colab_link": true
    },
    "kernelspec": {
      "name": "python3",
      "display_name": "Python 3"
    },
    "language_info": {
      "name": "python"
    }
  },
  "cells": [
    {
      "cell_type": "markdown",
      "metadata": {
        "id": "view-in-github",
        "colab_type": "text"
      },
      "source": [
        "<a href=\"https://colab.research.google.com/github/arssite/Datalysis/blob/main/integer_encoding_simplearn.ipynb\" target=\"_parent\"><img src=\"https://colab.research.google.com/assets/colab-badge.svg\" alt=\"Open In Colab\"/></a>"
      ]
    },
    {
      "cell_type": "markdown",
      "source": [
        "# **Recurrent Neural Network (RNN)**\n",
        "RNN is a type of neural network that is designed to recognize patterns in sequences of data. RNNs are able to do this by feeding back the output of a previous layer into the input of the next layer. This allows the network to learn long-term dependencies in the data.\n",
        "\n",
        "RNNs are typically used for tasks such as:\n",
        "\n",
        "Natural language processing: RNNs can be used to understand the meaning of sentences and to generate text.\n",
        "Speech recognition: RNNs can be used to recognize spoken words.\n",
        "Machine translation: RNNs can be used to translate text from one language to another.\n",
        "Time series forecasting: RNNs can be used to predict future values of a time series.\n",
        "RNNs are a powerful tool for learning from sequential data. However, they can also be difficult to train. One of the challenges with RNNs is that they can suffer from the vanishing gradient problem. This problem occurs when the gradients of the error function become very small, which can make it difficult for the network to learn.\n",
        "\n",
        "There are a number of different types of RNNs, including:\n",
        "\n",
        "Simple Recurrent Neural Networks (SRNs): SRNs are the simplest type of RNNs. They have a single hidden layer that is connected to the input and output layers.\n",
        "Long Short-Term Memory (LSTM) networks: LSTMs are a type of RNN that is designed to address the vanishing gradient problem. LSTMs have a special type of memory cell that can store information over long periods of time.\n",
        "Gated Recurrent Unit (GRU) networks: GRUs are a type of RNN that is similar to LSTMs. GRUs have a simpler architecture than LSTMs, but they can still perform well on a variety of tasks.\n",
        "RNNs are a powerful tool for learning from sequential data. They have been used to achieve state-of-the-art results on a wide range of tasks."
      ],
      "metadata": {
        "id": "FVcBhCfHqKTC"
      }
    },
    {
      "cell_type": "code",
      "execution_count": 1,
      "metadata": {
        "id": "0oDOSwchep4E"
      },
      "outputs": [],
      "source": [
        "import numpy as np\n",
        "docs = [\n",
        "    \"The quick brown fox jumps over the lazy dog.\",\n",
        "    \"Lorem ipsum dolor sit amet, consectetur adipiscing elit.\",\n",
        "    \"Python is a high-level programming language.\",\n",
        "    \"Stack Overflow is a question and answer website for professional and enthusiast programmers.\",\n",
        "    \"Artificial intelligence is reshaping industries across the globe.\",\n",
        "    \"The universe is vast and full of mysteries.\",\n",
        "    \"Climate change is a pressing issue that requires global cooperation.\",\n",
        "    \"The sun rises in the east and sets in the west.\",\n",
        "    \"Music has the power to evoke strong emotions.\",\n",
        "    \"Education is the key to unlocking opportunities.\",\n",
        "    \"Health is wealth.\",\n",
        "    \"The journey of a thousand miles begins with a single step.\",\n",
        "    \"Reading is to the mind what exercise is to the body.\",\n",
        "    \"Life is like a box of chocolates; you never know what you're gonna get.\",\n",
        "    \"Laughter is the best medicine.\",\n",
        "    \"The only way to do great work is to love what you do.\",\n",
        "    \"Success is not final, failure is not fatal: It is the courage to continue that counts.\",\n",
        "    \"Believe you can and you're halfway there.\",\n",
        "    \"Yesterday is history, tomorrow is a mystery, but today is a gift. That is why it is called the present.\",\n",
        "    \"Happiness is not something ready made. It comes from your own actions.\",\n",
        "    \"Be yourself; everyone else is already taken.\",\n",
        "    \"In three words I can sum up everything I've learned about life: it goes on.\",\n",
        "    \"To be yourself in a world that is constantly trying to make you something else is the greatest accomplishment.\",\n",
        "    \"Life is either a daring adventure or nothing at all.\",\n",
        "    \"Success is not the key to happiness. Happiness is the key to success. If you love what you are doing, you will be successful.\",\n",
        "    \"Don't cry because it's over, smile because it happened.\"\n",
        "]"
      ]
    },
    {
      "cell_type": "code",
      "source": [
        "from keras.preprocessing.text import Tokenizer\n",
        "token=Tokenizer(oov_token='<nothing')"
      ],
      "metadata": {
        "id": "0rtCyaNzvJkZ"
      },
      "execution_count": 3,
      "outputs": []
    },
    {
      "cell_type": "code",
      "source": [],
      "metadata": {
        "id": "dL8VWow7vQEQ"
      },
      "execution_count": null,
      "outputs": []
    }
  ]
}