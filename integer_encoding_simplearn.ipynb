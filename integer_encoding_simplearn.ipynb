{
  "nbformat": 4,
  "nbformat_minor": 0,
  "metadata": {
    "colab": {
      "provenance": [],
      "authorship_tag": "ABX9TyPLdv94ofLlSmp77Mp5TbmW",
      "include_colab_link": true
    },
    "kernelspec": {
      "name": "python3",
      "display_name": "Python 3"
    },
    "language_info": {
      "name": "python"
    }
  },
  "cells": [
    {
      "cell_type": "markdown",
      "metadata": {
        "id": "view-in-github",
        "colab_type": "text"
      },
      "source": [
        "<a href=\"https://colab.research.google.com/github/arssite/Datalysis/blob/main/integer_encoding_simplearn.ipynb\" target=\"_parent\"><img src=\"https://colab.research.google.com/assets/colab-badge.svg\" alt=\"Open In Colab\"/></a>"
      ]
    },
    {
      "cell_type": "markdown",
      "source": [
        "# **Recurrent Neural Network (RNN)**\n",
        "RNN is a type of neural network that is designed to recognize patterns in sequences of data. RNNs are able to do this by feeding back the output of a previous layer into the input of the next layer. This allows the network to learn long-term dependencies in the data.\n",
        "\n",
        "RNNs are typically used for tasks such as:\n",
        "\n",
        "Natural language processing: RNNs can be used to understand the meaning of sentences and to generate text.\n",
        "Speech recognition: RNNs can be used to recognize spoken words.\n",
        "Machine translation: RNNs can be used to translate text from one language to another.\n",
        "Time series forecasting: RNNs can be used to predict future values of a time series.\n",
        "RNNs are a powerful tool for learning from sequential data. However, they can also be difficult to train. One of the challenges with RNNs is that they can suffer from the vanishing gradient problem. This problem occurs when the gradients of the error function become very small, which can make it difficult for the network to learn.\n",
        "\n",
        "There are a number of different types of RNNs, including:\n",
        "\n",
        "Simple Recurrent Neural Networks (SRNs): SRNs are the simplest type of RNNs. They have a single hidden layer that is connected to the input and output layers.\n",
        "Long Short-Term Memory (LSTM) networks: LSTMs are a type of RNN that is designed to address the vanishing gradient problem. LSTMs have a special type of memory cell that can store information over long periods of time.\n",
        "Gated Recurrent Unit (GRU) networks: GRUs are a type of RNN that is similar to LSTMs. GRUs have a simpler architecture than LSTMs, but they can still perform well on a variety of tasks.\n",
        "RNNs are a powerful tool for learning from sequential data. They have been used to achieve state-of-the-art results on a wide range of tasks."
      ],
      "metadata": {
        "id": "FVcBhCfHqKTC"
      }
    },
    {
      "cell_type": "code",
      "execution_count": 1,
      "metadata": {
        "id": "0oDOSwchep4E"
      },
      "outputs": [],
      "source": [
        "import numpy as np\n",
        "docs = [\n",
        "    \"The quick brown fox jumps over the lazy dog.\",\n",
        "    \"Lorem ipsum dolor sit amet, consectetur adipiscing elit.\",\n",
        "    \"Python is a high-level programming language.\",\n",
        "    \"Stack Overflow is a question and answer website for professional and enthusiast programmers.\",\n",
        "    \"Artificial intelligence is reshaping industries across the globe.\",\n",
        "    \"The universe is vast and full of mysteries.\",\n",
        "    \"Climate change is a pressing issue that requires global cooperation.\",\n",
        "    \"The sun rises in the east and sets in the west.\",\n",
        "    \"Music has the power to evoke strong emotions.\",\n",
        "    \"Education is the key to unlocking opportunities.\",\n",
        "    \"Health is wealth.\",\n",
        "    \"The journey of a thousand miles begins with a single step.\",\n",
        "    \"Reading is to the mind what exercise is to the body.\",\n",
        "    \"Life is like a box of chocolates; you never know what you're gonna get.\",\n",
        "    \"Laughter is the best medicine.\",\n",
        "    \"The only way to do great work is to love what you do.\",\n",
        "    \"Success is not final, failure is not fatal: It is the courage to continue that counts.\",\n",
        "    \"Believe you can and you're halfway there.\",\n",
        "    \"Yesterday is history, tomorrow is a mystery, but today is a gift. That is why it is called the present.\",\n",
        "    \"Happiness is not something ready made. It comes from your own actions.\",\n",
        "    \"Be yourself; everyone else is already taken.\",\n",
        "    \"In three words I can sum up everything I've learned about life: it goes on.\",\n",
        "    \"To be yourself in a world that is constantly trying to make you something else is the greatest accomplishment.\",\n",
        "    \"Life is either a daring adventure or nothing at all.\",\n",
        "    \"Success is not the key to happiness. Happiness is the key to success. If you love what you are doing, you will be successful.\",\n",
        "    \"Don't cry because it's over, smile because it happened.\"\n",
        "]"
      ]
    },
    {
      "cell_type": "code",
      "source": [
        "from keras.preprocessing.text import Tokenizer\n",
        "token=Tokenizer(oov_token='<nothing>')"
      ],
      "metadata": {
        "id": "0rtCyaNzvJkZ"
      },
      "execution_count": 2,
      "outputs": []
    },
    {
      "cell_type": "markdown",
      "source": [
        "\n",
        "The Tokenizer class in Keras is a text tokenization utility. It allows you to vectorize a text corpus into a list of integers, where each integer represents a token (word or character). This is a common preprocessing step in natural language processing (NLP) tasks, especially when working with neural networks."
      ],
      "metadata": {
        "id": "Dqrudr6bvyVK"
      }
    },
    {
      "cell_type": "code",
      "source": [
        "'''\n",
        "from keras.preprocessing.text import Tokenizer\n",
        "\n",
        "# Sample text corpus\n",
        "texts = [\n",
        "    \"The quick brown fox jumps over the lazy dog.\",\n",
        "    \"Lorem ipsum dolor sit amet, consectetur adipiscing elit.\",\n",
        "    \"Python is a high-level programming language.\"\n",
        "]\n",
        "\n",
        "# Create a tokenizer object\n",
        "tokenizer = Tokenizer()\n",
        "\n",
        "# Fit the tokenizer on the texts\n",
        "tokenizer.fit_on_texts(texts)\n",
        "\n",
        "# Convert text to sequences of integers\n",
        "sequences = tokenizer.texts_to_sequences(texts)\n",
        "\n",
        "# Print the word index mapping\n",
        "word_index = tokenizer.word_index\n",
        "print(\"Word index:\", word_index)\n",
        "\n",
        "# Print the sequences\n",
        "print(\"Sequences:\", sequences)\n",
        "\n",
        "______________________________________\n",
        "Word index: {'the': 1, 'quick': 2, 'brown': 3, 'fox': 4, 'jumps': 5, 'over': 6, 'lazy': 7, 'dog': 8, 'lorem': 9, 'ipsum': 10, 'dolor': 11, 'sit': 12, 'amet': 13, 'consectetur': 14, 'adipiscing': 15, 'elit': 16, 'python': 17, 'is': 18, 'a': 19, 'high': 20, 'level': 21, 'programming': 22, 'language': 23}\n",
        "Sequences: [[1, 2, 3, 4, 5, 6, 1, 7, 8], [9, 10, 11, 12, 13, 14, 15, 16], [17, 18, 19, 20, 21, 22, 23]]'''"
      ],
      "metadata": {
        "colab": {
          "base_uri": "https://localhost:8080/",
          "height": 139
        },
        "id": "dL8VWow7vQEQ",
        "outputId": "33f13647-f17f-4837-e345-1469b1d66796"
      },
      "execution_count": 3,
      "outputs": [
        {
          "output_type": "execute_result",
          "data": {
            "text/plain": [
              "'\\nfrom keras.preprocessing.text import Tokenizer\\n\\n# Sample text corpus\\ntexts = [\\n    \"The quick brown fox jumps over the lazy dog.\",\\n    \"Lorem ipsum dolor sit amet, consectetur adipiscing elit.\",\\n    \"Python is a high-level programming language.\"\\n]\\n\\n# Create a tokenizer object\\ntokenizer = Tokenizer()\\n\\n# Fit the tokenizer on the texts\\ntokenizer.fit_on_texts(texts)\\n\\n# Convert text to sequences of integers\\nsequences = tokenizer.texts_to_sequences(texts)\\n\\n# Print the word index mapping\\nword_index = tokenizer.word_index\\nprint(\"Word index:\", word_index)\\n\\n# Print the sequences\\nprint(\"Sequences:\", sequences)\\n\\n______________________________________\\nWord index: {\\'the\\': 1, \\'quick\\': 2, \\'brown\\': 3, \\'fox\\': 4, \\'jumps\\': 5, \\'over\\': 6, \\'lazy\\': 7, \\'dog\\': 8, \\'lorem\\': 9, \\'ipsum\\': 10, \\'dolor\\': 11, \\'sit\\': 12, \\'amet\\': 13, \\'consectetur\\': 14, \\'adipiscing\\': 15, \\'elit\\': 16, \\'python\\': 17, \\'is\\': 18, \\'a\\': 19, \\'high\\': 20, \\'level\\': 21, \\'programming\\': 22, \\'language\\': 23}\\nSequences: [[1, 2, 3, 4, 5, 6, 1, 7, 8], [9, 10, 11, 12, 13, 14, 15, 16], [17, 18, 19, 20, 21, 22, 23]]'"
            ],
            "application/vnd.google.colaboratory.intrinsic+json": {
              "type": "string"
            }
          },
          "metadata": {},
          "execution_count": 3
        }
      ]
    },
    {
      "cell_type": "code",
      "source": [
        "token.fit_on_texts(docs)"
      ],
      "metadata": {
        "id": "aarDhK3Cv4zR"
      },
      "execution_count": 4,
      "outputs": []
    },
    {
      "cell_type": "markdown",
      "source": [
        "The tokenizer.word_index attribute provides a dictionary mapping of words to their respective integer indices. This mapping is built when you call the fit_on_texts() method of the Tokenizer class. This dictionary is useful because it allows you to convert words to their corresponding integer indices and vice versa."
      ],
      "metadata": {
        "id": "GWBZkDiVwvTq"
      }
    },
    {
      "cell_type": "code",
      "source": [
        "token.word_index"
      ],
      "metadata": {
        "colab": {
          "base_uri": "https://localhost:8080/"
        },
        "id": "hgkKeC2vwG1s",
        "outputId": "01592b45-b45a-4b81-a935-d3eae263ed23"
      },
      "execution_count": 5,
      "outputs": [
        {
          "output_type": "execute_result",
          "data": {
            "text/plain": [
              "{'<nothing>': 1,\n",
              " 'is': 2,\n",
              " 'the': 3,\n",
              " 'to': 4,\n",
              " 'a': 5,\n",
              " 'you': 6,\n",
              " 'and': 7,\n",
              " 'it': 8,\n",
              " 'that': 9,\n",
              " 'in': 10,\n",
              " 'what': 11,\n",
              " 'not': 12,\n",
              " 'of': 13,\n",
              " 'key': 14,\n",
              " 'life': 15,\n",
              " 'success': 16,\n",
              " 'happiness': 17,\n",
              " 'be': 18,\n",
              " 'over': 19,\n",
              " \"you're\": 20,\n",
              " 'do': 21,\n",
              " 'love': 22,\n",
              " 'can': 23,\n",
              " 'something': 24,\n",
              " 'yourself': 25,\n",
              " 'else': 26,\n",
              " 'because': 27,\n",
              " 'quick': 28,\n",
              " 'brown': 29,\n",
              " 'fox': 30,\n",
              " 'jumps': 31,\n",
              " 'lazy': 32,\n",
              " 'dog': 33,\n",
              " 'lorem': 34,\n",
              " 'ipsum': 35,\n",
              " 'dolor': 36,\n",
              " 'sit': 37,\n",
              " 'amet': 38,\n",
              " 'consectetur': 39,\n",
              " 'adipiscing': 40,\n",
              " 'elit': 41,\n",
              " 'python': 42,\n",
              " 'high': 43,\n",
              " 'level': 44,\n",
              " 'programming': 45,\n",
              " 'language': 46,\n",
              " 'stack': 47,\n",
              " 'overflow': 48,\n",
              " 'question': 49,\n",
              " 'answer': 50,\n",
              " 'website': 51,\n",
              " 'for': 52,\n",
              " 'professional': 53,\n",
              " 'enthusiast': 54,\n",
              " 'programmers': 55,\n",
              " 'artificial': 56,\n",
              " 'intelligence': 57,\n",
              " 'reshaping': 58,\n",
              " 'industries': 59,\n",
              " 'across': 60,\n",
              " 'globe': 61,\n",
              " 'universe': 62,\n",
              " 'vast': 63,\n",
              " 'full': 64,\n",
              " 'mysteries': 65,\n",
              " 'climate': 66,\n",
              " 'change': 67,\n",
              " 'pressing': 68,\n",
              " 'issue': 69,\n",
              " 'requires': 70,\n",
              " 'global': 71,\n",
              " 'cooperation': 72,\n",
              " 'sun': 73,\n",
              " 'rises': 74,\n",
              " 'east': 75,\n",
              " 'sets': 76,\n",
              " 'west': 77,\n",
              " 'music': 78,\n",
              " 'has': 79,\n",
              " 'power': 80,\n",
              " 'evoke': 81,\n",
              " 'strong': 82,\n",
              " 'emotions': 83,\n",
              " 'education': 84,\n",
              " 'unlocking': 85,\n",
              " 'opportunities': 86,\n",
              " 'health': 87,\n",
              " 'wealth': 88,\n",
              " 'journey': 89,\n",
              " 'thousand': 90,\n",
              " 'miles': 91,\n",
              " 'begins': 92,\n",
              " 'with': 93,\n",
              " 'single': 94,\n",
              " 'step': 95,\n",
              " 'reading': 96,\n",
              " 'mind': 97,\n",
              " 'exercise': 98,\n",
              " 'body': 99,\n",
              " 'like': 100,\n",
              " 'box': 101,\n",
              " 'chocolates': 102,\n",
              " 'never': 103,\n",
              " 'know': 104,\n",
              " 'gonna': 105,\n",
              " 'get': 106,\n",
              " 'laughter': 107,\n",
              " 'best': 108,\n",
              " 'medicine': 109,\n",
              " 'only': 110,\n",
              " 'way': 111,\n",
              " 'great': 112,\n",
              " 'work': 113,\n",
              " 'final': 114,\n",
              " 'failure': 115,\n",
              " 'fatal': 116,\n",
              " 'courage': 117,\n",
              " 'continue': 118,\n",
              " 'counts': 119,\n",
              " 'believe': 120,\n",
              " 'halfway': 121,\n",
              " 'there': 122,\n",
              " 'yesterday': 123,\n",
              " 'history': 124,\n",
              " 'tomorrow': 125,\n",
              " 'mystery': 126,\n",
              " 'but': 127,\n",
              " 'today': 128,\n",
              " 'gift': 129,\n",
              " 'why': 130,\n",
              " 'called': 131,\n",
              " 'present': 132,\n",
              " 'ready': 133,\n",
              " 'made': 134,\n",
              " 'comes': 135,\n",
              " 'from': 136,\n",
              " 'your': 137,\n",
              " 'own': 138,\n",
              " 'actions': 139,\n",
              " 'everyone': 140,\n",
              " 'already': 141,\n",
              " 'taken': 142,\n",
              " 'three': 143,\n",
              " 'words': 144,\n",
              " 'i': 145,\n",
              " 'sum': 146,\n",
              " 'up': 147,\n",
              " 'everything': 148,\n",
              " \"i've\": 149,\n",
              " 'learned': 150,\n",
              " 'about': 151,\n",
              " 'goes': 152,\n",
              " 'on': 153,\n",
              " 'world': 154,\n",
              " 'constantly': 155,\n",
              " 'trying': 156,\n",
              " 'make': 157,\n",
              " 'greatest': 158,\n",
              " 'accomplishment': 159,\n",
              " 'either': 160,\n",
              " 'daring': 161,\n",
              " 'adventure': 162,\n",
              " 'or': 163,\n",
              " 'nothing': 164,\n",
              " 'at': 165,\n",
              " 'all': 166,\n",
              " 'if': 167,\n",
              " 'are': 168,\n",
              " 'doing': 169,\n",
              " 'will': 170,\n",
              " 'successful': 171,\n",
              " \"don't\": 172,\n",
              " 'cry': 173,\n",
              " \"it's\": 174,\n",
              " 'smile': 175,\n",
              " 'happened': 176}"
            ]
          },
          "metadata": {},
          "execution_count": 5
        }
      ]
    },
    {
      "cell_type": "code",
      "source": [
        "token.word_counts"
      ],
      "metadata": {
        "colab": {
          "base_uri": "https://localhost:8080/"
        },
        "id": "vXjbOwSdwLSg",
        "outputId": "14115f44-a08a-4874-f940-816d04e0577f"
      },
      "execution_count": 6,
      "outputs": [
        {
          "output_type": "execute_result",
          "data": {
            "text/plain": [
              "OrderedDict([('the', 19),\n",
              "             ('quick', 1),\n",
              "             ('brown', 1),\n",
              "             ('fox', 1),\n",
              "             ('jumps', 1),\n",
              "             ('over', 2),\n",
              "             ('lazy', 1),\n",
              "             ('dog', 1),\n",
              "             ('lorem', 1),\n",
              "             ('ipsum', 1),\n",
              "             ('dolor', 1),\n",
              "             ('sit', 1),\n",
              "             ('amet', 1),\n",
              "             ('consectetur', 1),\n",
              "             ('adipiscing', 1),\n",
              "             ('elit', 1),\n",
              "             ('python', 1),\n",
              "             ('is', 27),\n",
              "             ('a', 10),\n",
              "             ('high', 1),\n",
              "             ('level', 1),\n",
              "             ('programming', 1),\n",
              "             ('language', 1),\n",
              "             ('stack', 1),\n",
              "             ('overflow', 1),\n",
              "             ('question', 1),\n",
              "             ('and', 5),\n",
              "             ('answer', 1),\n",
              "             ('website', 1),\n",
              "             ('for', 1),\n",
              "             ('professional', 1),\n",
              "             ('enthusiast', 1),\n",
              "             ('programmers', 1),\n",
              "             ('artificial', 1),\n",
              "             ('intelligence', 1),\n",
              "             ('reshaping', 1),\n",
              "             ('industries', 1),\n",
              "             ('across', 1),\n",
              "             ('globe', 1),\n",
              "             ('universe', 1),\n",
              "             ('vast', 1),\n",
              "             ('full', 1),\n",
              "             ('of', 3),\n",
              "             ('mysteries', 1),\n",
              "             ('climate', 1),\n",
              "             ('change', 1),\n",
              "             ('pressing', 1),\n",
              "             ('issue', 1),\n",
              "             ('that', 4),\n",
              "             ('requires', 1),\n",
              "             ('global', 1),\n",
              "             ('cooperation', 1),\n",
              "             ('sun', 1),\n",
              "             ('rises', 1),\n",
              "             ('in', 4),\n",
              "             ('east', 1),\n",
              "             ('sets', 1),\n",
              "             ('west', 1),\n",
              "             ('music', 1),\n",
              "             ('has', 1),\n",
              "             ('power', 1),\n",
              "             ('to', 11),\n",
              "             ('evoke', 1),\n",
              "             ('strong', 1),\n",
              "             ('emotions', 1),\n",
              "             ('education', 1),\n",
              "             ('key', 3),\n",
              "             ('unlocking', 1),\n",
              "             ('opportunities', 1),\n",
              "             ('health', 1),\n",
              "             ('wealth', 1),\n",
              "             ('journey', 1),\n",
              "             ('thousand', 1),\n",
              "             ('miles', 1),\n",
              "             ('begins', 1),\n",
              "             ('with', 1),\n",
              "             ('single', 1),\n",
              "             ('step', 1),\n",
              "             ('reading', 1),\n",
              "             ('mind', 1),\n",
              "             ('what', 4),\n",
              "             ('exercise', 1),\n",
              "             ('body', 1),\n",
              "             ('life', 3),\n",
              "             ('like', 1),\n",
              "             ('box', 1),\n",
              "             ('chocolates', 1),\n",
              "             ('you', 7),\n",
              "             ('never', 1),\n",
              "             ('know', 1),\n",
              "             (\"you're\", 2),\n",
              "             ('gonna', 1),\n",
              "             ('get', 1),\n",
              "             ('laughter', 1),\n",
              "             ('best', 1),\n",
              "             ('medicine', 1),\n",
              "             ('only', 1),\n",
              "             ('way', 1),\n",
              "             ('do', 2),\n",
              "             ('great', 1),\n",
              "             ('work', 1),\n",
              "             ('love', 2),\n",
              "             ('success', 3),\n",
              "             ('not', 4),\n",
              "             ('final', 1),\n",
              "             ('failure', 1),\n",
              "             ('fatal', 1),\n",
              "             ('it', 5),\n",
              "             ('courage', 1),\n",
              "             ('continue', 1),\n",
              "             ('counts', 1),\n",
              "             ('believe', 1),\n",
              "             ('can', 2),\n",
              "             ('halfway', 1),\n",
              "             ('there', 1),\n",
              "             ('yesterday', 1),\n",
              "             ('history', 1),\n",
              "             ('tomorrow', 1),\n",
              "             ('mystery', 1),\n",
              "             ('but', 1),\n",
              "             ('today', 1),\n",
              "             ('gift', 1),\n",
              "             ('why', 1),\n",
              "             ('called', 1),\n",
              "             ('present', 1),\n",
              "             ('happiness', 3),\n",
              "             ('something', 2),\n",
              "             ('ready', 1),\n",
              "             ('made', 1),\n",
              "             ('comes', 1),\n",
              "             ('from', 1),\n",
              "             ('your', 1),\n",
              "             ('own', 1),\n",
              "             ('actions', 1),\n",
              "             ('be', 3),\n",
              "             ('yourself', 2),\n",
              "             ('everyone', 1),\n",
              "             ('else', 2),\n",
              "             ('already', 1),\n",
              "             ('taken', 1),\n",
              "             ('three', 1),\n",
              "             ('words', 1),\n",
              "             ('i', 1),\n",
              "             ('sum', 1),\n",
              "             ('up', 1),\n",
              "             ('everything', 1),\n",
              "             (\"i've\", 1),\n",
              "             ('learned', 1),\n",
              "             ('about', 1),\n",
              "             ('goes', 1),\n",
              "             ('on', 1),\n",
              "             ('world', 1),\n",
              "             ('constantly', 1),\n",
              "             ('trying', 1),\n",
              "             ('make', 1),\n",
              "             ('greatest', 1),\n",
              "             ('accomplishment', 1),\n",
              "             ('either', 1),\n",
              "             ('daring', 1),\n",
              "             ('adventure', 1),\n",
              "             ('or', 1),\n",
              "             ('nothing', 1),\n",
              "             ('at', 1),\n",
              "             ('all', 1),\n",
              "             ('if', 1),\n",
              "             ('are', 1),\n",
              "             ('doing', 1),\n",
              "             ('will', 1),\n",
              "             ('successful', 1),\n",
              "             (\"don't\", 1),\n",
              "             ('cry', 1),\n",
              "             ('because', 2),\n",
              "             (\"it's\", 1),\n",
              "             ('smile', 1),\n",
              "             ('happened', 1)])"
            ]
          },
          "metadata": {},
          "execution_count": 6
        }
      ]
    },
    {
      "cell_type": "code",
      "source": [
        "token.document_count"
      ],
      "metadata": {
        "colab": {
          "base_uri": "https://localhost:8080/"
        },
        "id": "4BohQYfdw-pI",
        "outputId": "78ca4839-4735-4bb7-a428-5f964c251618"
      },
      "execution_count": 7,
      "outputs": [
        {
          "output_type": "execute_result",
          "data": {
            "text/plain": [
              "26"
            ]
          },
          "metadata": {},
          "execution_count": 7
        }
      ]
    },
    {
      "cell_type": "code",
      "source": [
        "seq=token.texts_to_sequences(docs)\n",
        "seq"
      ],
      "metadata": {
        "colab": {
          "base_uri": "https://localhost:8080/"
        },
        "id": "dlv59gLDxc85",
        "outputId": "903f6c52-e991-4e99-f764-33c2f172f084"
      },
      "execution_count": 8,
      "outputs": [
        {
          "output_type": "execute_result",
          "data": {
            "text/plain": [
              "[[3, 28, 29, 30, 31, 19, 3, 32, 33],\n",
              " [34, 35, 36, 37, 38, 39, 40, 41],\n",
              " [42, 2, 5, 43, 44, 45, 46],\n",
              " [47, 48, 2, 5, 49, 7, 50, 51, 52, 53, 7, 54, 55],\n",
              " [56, 57, 2, 58, 59, 60, 3, 61],\n",
              " [3, 62, 2, 63, 7, 64, 13, 65],\n",
              " [66, 67, 2, 5, 68, 69, 9, 70, 71, 72],\n",
              " [3, 73, 74, 10, 3, 75, 7, 76, 10, 3, 77],\n",
              " [78, 79, 3, 80, 4, 81, 82, 83],\n",
              " [84, 2, 3, 14, 4, 85, 86],\n",
              " [87, 2, 88],\n",
              " [3, 89, 13, 5, 90, 91, 92, 93, 5, 94, 95],\n",
              " [96, 2, 4, 3, 97, 11, 98, 2, 4, 3, 99],\n",
              " [15, 2, 100, 5, 101, 13, 102, 6, 103, 104, 11, 20, 105, 106],\n",
              " [107, 2, 3, 108, 109],\n",
              " [3, 110, 111, 4, 21, 112, 113, 2, 4, 22, 11, 6, 21],\n",
              " [16, 2, 12, 114, 115, 2, 12, 116, 8, 2, 3, 117, 4, 118, 9, 119],\n",
              " [120, 6, 23, 7, 20, 121, 122],\n",
              " [123,\n",
              "  2,\n",
              "  124,\n",
              "  125,\n",
              "  2,\n",
              "  5,\n",
              "  126,\n",
              "  127,\n",
              "  128,\n",
              "  2,\n",
              "  5,\n",
              "  129,\n",
              "  9,\n",
              "  2,\n",
              "  130,\n",
              "  8,\n",
              "  2,\n",
              "  131,\n",
              "  3,\n",
              "  132],\n",
              " [17, 2, 12, 24, 133, 134, 8, 135, 136, 137, 138, 139],\n",
              " [18, 25, 140, 26, 2, 141, 142],\n",
              " [10, 143, 144, 145, 23, 146, 147, 148, 149, 150, 151, 15, 8, 152, 153],\n",
              " [4, 18, 25, 10, 5, 154, 9, 2, 155, 156, 4, 157, 6, 24, 26, 2, 3, 158, 159],\n",
              " [15, 2, 160, 5, 161, 162, 163, 164, 165, 166],\n",
              " [16,\n",
              "  2,\n",
              "  12,\n",
              "  3,\n",
              "  14,\n",
              "  4,\n",
              "  17,\n",
              "  17,\n",
              "  2,\n",
              "  3,\n",
              "  14,\n",
              "  4,\n",
              "  16,\n",
              "  167,\n",
              "  6,\n",
              "  22,\n",
              "  11,\n",
              "  6,\n",
              "  168,\n",
              "  169,\n",
              "  6,\n",
              "  170,\n",
              "  18,\n",
              "  171],\n",
              " [172, 173, 27, 174, 19, 175, 27, 8, 176]]"
            ]
          },
          "metadata": {},
          "execution_count": 8
        }
      ]
    },
    {
      "cell_type": "code",
      "source": [
        "from keras.utils import pad_sequences"
      ],
      "metadata": {
        "id": "4MKSsVLoiGRu"
      },
      "execution_count": 13,
      "outputs": []
    },
    {
      "cell_type": "code",
      "source": [
        "sequences = pad_sequences(seq,padding='post')"
      ],
      "metadata": {
        "id": "EXlJ25YlxjII"
      },
      "execution_count": 14,
      "outputs": []
    },
    {
      "cell_type": "code",
      "source": [
        "sequences"
      ],
      "metadata": {
        "colab": {
          "base_uri": "https://localhost:8080/"
        },
        "id": "mz_0mGtBiJwF",
        "outputId": "7d5a687a-670a-4411-f42a-86030b3a5cd4"
      },
      "execution_count": 15,
      "outputs": [
        {
          "output_type": "execute_result",
          "data": {
            "text/plain": [
              "array([[  3,  28,  29,  30,  31,  19,   3,  32,  33,   0,   0,   0,   0,\n",
              "          0,   0,   0,   0,   0,   0,   0,   0,   0,   0,   0],\n",
              "       [ 34,  35,  36,  37,  38,  39,  40,  41,   0,   0,   0,   0,   0,\n",
              "          0,   0,   0,   0,   0,   0,   0,   0,   0,   0,   0],\n",
              "       [ 42,   2,   5,  43,  44,  45,  46,   0,   0,   0,   0,   0,   0,\n",
              "          0,   0,   0,   0,   0,   0,   0,   0,   0,   0,   0],\n",
              "       [ 47,  48,   2,   5,  49,   7,  50,  51,  52,  53,   7,  54,  55,\n",
              "          0,   0,   0,   0,   0,   0,   0,   0,   0,   0,   0],\n",
              "       [ 56,  57,   2,  58,  59,  60,   3,  61,   0,   0,   0,   0,   0,\n",
              "          0,   0,   0,   0,   0,   0,   0,   0,   0,   0,   0],\n",
              "       [  3,  62,   2,  63,   7,  64,  13,  65,   0,   0,   0,   0,   0,\n",
              "          0,   0,   0,   0,   0,   0,   0,   0,   0,   0,   0],\n",
              "       [ 66,  67,   2,   5,  68,  69,   9,  70,  71,  72,   0,   0,   0,\n",
              "          0,   0,   0,   0,   0,   0,   0,   0,   0,   0,   0],\n",
              "       [  3,  73,  74,  10,   3,  75,   7,  76,  10,   3,  77,   0,   0,\n",
              "          0,   0,   0,   0,   0,   0,   0,   0,   0,   0,   0],\n",
              "       [ 78,  79,   3,  80,   4,  81,  82,  83,   0,   0,   0,   0,   0,\n",
              "          0,   0,   0,   0,   0,   0,   0,   0,   0,   0,   0],\n",
              "       [ 84,   2,   3,  14,   4,  85,  86,   0,   0,   0,   0,   0,   0,\n",
              "          0,   0,   0,   0,   0,   0,   0,   0,   0,   0,   0],\n",
              "       [ 87,   2,  88,   0,   0,   0,   0,   0,   0,   0,   0,   0,   0,\n",
              "          0,   0,   0,   0,   0,   0,   0,   0,   0,   0,   0],\n",
              "       [  3,  89,  13,   5,  90,  91,  92,  93,   5,  94,  95,   0,   0,\n",
              "          0,   0,   0,   0,   0,   0,   0,   0,   0,   0,   0],\n",
              "       [ 96,   2,   4,   3,  97,  11,  98,   2,   4,   3,  99,   0,   0,\n",
              "          0,   0,   0,   0,   0,   0,   0,   0,   0,   0,   0],\n",
              "       [ 15,   2, 100,   5, 101,  13, 102,   6, 103, 104,  11,  20, 105,\n",
              "        106,   0,   0,   0,   0,   0,   0,   0,   0,   0,   0],\n",
              "       [107,   2,   3, 108, 109,   0,   0,   0,   0,   0,   0,   0,   0,\n",
              "          0,   0,   0,   0,   0,   0,   0,   0,   0,   0,   0],\n",
              "       [  3, 110, 111,   4,  21, 112, 113,   2,   4,  22,  11,   6,  21,\n",
              "          0,   0,   0,   0,   0,   0,   0,   0,   0,   0,   0],\n",
              "       [ 16,   2,  12, 114, 115,   2,  12, 116,   8,   2,   3, 117,   4,\n",
              "        118,   9, 119,   0,   0,   0,   0,   0,   0,   0,   0],\n",
              "       [120,   6,  23,   7,  20, 121, 122,   0,   0,   0,   0,   0,   0,\n",
              "          0,   0,   0,   0,   0,   0,   0,   0,   0,   0,   0],\n",
              "       [123,   2, 124, 125,   2,   5, 126, 127, 128,   2,   5, 129,   9,\n",
              "          2, 130,   8,   2, 131,   3, 132,   0,   0,   0,   0],\n",
              "       [ 17,   2,  12,  24, 133, 134,   8, 135, 136, 137, 138, 139,   0,\n",
              "          0,   0,   0,   0,   0,   0,   0,   0,   0,   0,   0],\n",
              "       [ 18,  25, 140,  26,   2, 141, 142,   0,   0,   0,   0,   0,   0,\n",
              "          0,   0,   0,   0,   0,   0,   0,   0,   0,   0,   0],\n",
              "       [ 10, 143, 144, 145,  23, 146, 147, 148, 149, 150, 151,  15,   8,\n",
              "        152, 153,   0,   0,   0,   0,   0,   0,   0,   0,   0],\n",
              "       [  4,  18,  25,  10,   5, 154,   9,   2, 155, 156,   4, 157,   6,\n",
              "         24,  26,   2,   3, 158, 159,   0,   0,   0,   0,   0],\n",
              "       [ 15,   2, 160,   5, 161, 162, 163, 164, 165, 166,   0,   0,   0,\n",
              "          0,   0,   0,   0,   0,   0,   0,   0,   0,   0,   0],\n",
              "       [ 16,   2,  12,   3,  14,   4,  17,  17,   2,   3,  14,   4,  16,\n",
              "        167,   6,  22,  11,   6, 168, 169,   6, 170,  18, 171],\n",
              "       [172, 173,  27, 174,  19, 175,  27,   8, 176,   0,   0,   0,   0,\n",
              "          0,   0,   0,   0,   0,   0,   0,   0,   0,   0,   0]],\n",
              "      dtype=int32)"
            ]
          },
          "metadata": {},
          "execution_count": 15
        }
      ]
    },
    {
      "cell_type": "code",
      "source": [
        "from keras.datasets import imdb\n",
        "from keras import Sequential\n",
        "from keras.layers import Dense,SimpleRNN,Embedding,Flatten"
      ],
      "metadata": {
        "id": "mlVwzAzXiZVd"
      },
      "execution_count": 16,
      "outputs": []
    },
    {
      "cell_type": "code",
      "source": [
        "(X_train,y_train),(X_test,y_test) = imdb.load_data()"
      ],
      "metadata": {
        "colab": {
          "base_uri": "https://localhost:8080/"
        },
        "id": "l_FFZCQXibuk",
        "outputId": "510da49b-eec1-48ee-d85a-aedf77a598ef"
      },
      "execution_count": 17,
      "outputs": [
        {
          "output_type": "stream",
          "name": "stdout",
          "text": [
            "Downloading data from https://storage.googleapis.com/tensorflow/tf-keras-datasets/imdb.npz\n",
            "17464789/17464789 [==============================] - 0s 0us/step\n"
          ]
        }
      ]
    },
    {
      "cell_type": "code",
      "source": [
        "X_train[0]"
      ],
      "metadata": {
        "colab": {
          "base_uri": "https://localhost:8080/"
        },
        "id": "ztXx60TNidbN",
        "outputId": "9fa54a86-2f13-4437-e3eb-570da0d065d4"
      },
      "execution_count": 18,
      "outputs": [
        {
          "output_type": "execute_result",
          "data": {
            "text/plain": [
              "[1,\n",
              " 14,\n",
              " 22,\n",
              " 16,\n",
              " 43,\n",
              " 530,\n",
              " 973,\n",
              " 1622,\n",
              " 1385,\n",
              " 65,\n",
              " 458,\n",
              " 4468,\n",
              " 66,\n",
              " 3941,\n",
              " 4,\n",
              " 173,\n",
              " 36,\n",
              " 256,\n",
              " 5,\n",
              " 25,\n",
              " 100,\n",
              " 43,\n",
              " 838,\n",
              " 112,\n",
              " 50,\n",
              " 670,\n",
              " 22665,\n",
              " 9,\n",
              " 35,\n",
              " 480,\n",
              " 284,\n",
              " 5,\n",
              " 150,\n",
              " 4,\n",
              " 172,\n",
              " 112,\n",
              " 167,\n",
              " 21631,\n",
              " 336,\n",
              " 385,\n",
              " 39,\n",
              " 4,\n",
              " 172,\n",
              " 4536,\n",
              " 1111,\n",
              " 17,\n",
              " 546,\n",
              " 38,\n",
              " 13,\n",
              " 447,\n",
              " 4,\n",
              " 192,\n",
              " 50,\n",
              " 16,\n",
              " 6,\n",
              " 147,\n",
              " 2025,\n",
              " 19,\n",
              " 14,\n",
              " 22,\n",
              " 4,\n",
              " 1920,\n",
              " 4613,\n",
              " 469,\n",
              " 4,\n",
              " 22,\n",
              " 71,\n",
              " 87,\n",
              " 12,\n",
              " 16,\n",
              " 43,\n",
              " 530,\n",
              " 38,\n",
              " 76,\n",
              " 15,\n",
              " 13,\n",
              " 1247,\n",
              " 4,\n",
              " 22,\n",
              " 17,\n",
              " 515,\n",
              " 17,\n",
              " 12,\n",
              " 16,\n",
              " 626,\n",
              " 18,\n",
              " 19193,\n",
              " 5,\n",
              " 62,\n",
              " 386,\n",
              " 12,\n",
              " 8,\n",
              " 316,\n",
              " 8,\n",
              " 106,\n",
              " 5,\n",
              " 4,\n",
              " 2223,\n",
              " 5244,\n",
              " 16,\n",
              " 480,\n",
              " 66,\n",
              " 3785,\n",
              " 33,\n",
              " 4,\n",
              " 130,\n",
              " 12,\n",
              " 16,\n",
              " 38,\n",
              " 619,\n",
              " 5,\n",
              " 25,\n",
              " 124,\n",
              " 51,\n",
              " 36,\n",
              " 135,\n",
              " 48,\n",
              " 25,\n",
              " 1415,\n",
              " 33,\n",
              " 6,\n",
              " 22,\n",
              " 12,\n",
              " 215,\n",
              " 28,\n",
              " 77,\n",
              " 52,\n",
              " 5,\n",
              " 14,\n",
              " 407,\n",
              " 16,\n",
              " 82,\n",
              " 10311,\n",
              " 8,\n",
              " 4,\n",
              " 107,\n",
              " 117,\n",
              " 5952,\n",
              " 15,\n",
              " 256,\n",
              " 4,\n",
              " 31050,\n",
              " 7,\n",
              " 3766,\n",
              " 5,\n",
              " 723,\n",
              " 36,\n",
              " 71,\n",
              " 43,\n",
              " 530,\n",
              " 476,\n",
              " 26,\n",
              " 400,\n",
              " 317,\n",
              " 46,\n",
              " 7,\n",
              " 4,\n",
              " 12118,\n",
              " 1029,\n",
              " 13,\n",
              " 104,\n",
              " 88,\n",
              " 4,\n",
              " 381,\n",
              " 15,\n",
              " 297,\n",
              " 98,\n",
              " 32,\n",
              " 2071,\n",
              " 56,\n",
              " 26,\n",
              " 141,\n",
              " 6,\n",
              " 194,\n",
              " 7486,\n",
              " 18,\n",
              " 4,\n",
              " 226,\n",
              " 22,\n",
              " 21,\n",
              " 134,\n",
              " 476,\n",
              " 26,\n",
              " 480,\n",
              " 5,\n",
              " 144,\n",
              " 30,\n",
              " 5535,\n",
              " 18,\n",
              " 51,\n",
              " 36,\n",
              " 28,\n",
              " 224,\n",
              " 92,\n",
              " 25,\n",
              " 104,\n",
              " 4,\n",
              " 226,\n",
              " 65,\n",
              " 16,\n",
              " 38,\n",
              " 1334,\n",
              " 88,\n",
              " 12,\n",
              " 16,\n",
              " 283,\n",
              " 5,\n",
              " 16,\n",
              " 4472,\n",
              " 113,\n",
              " 103,\n",
              " 32,\n",
              " 15,\n",
              " 16,\n",
              " 5345,\n",
              " 19,\n",
              " 178,\n",
              " 32]"
            ]
          },
          "metadata": {},
          "execution_count": 18
        }
      ]
    },
    {
      "cell_type": "code",
      "source": [
        "len(X_train[2])"
      ],
      "metadata": {
        "colab": {
          "base_uri": "https://localhost:8080/"
        },
        "id": "ydJX5fD6ijYV",
        "outputId": "56ef3530-dfba-4e65-999c-a7219fb6b8e1"
      },
      "execution_count": 19,
      "outputs": [
        {
          "output_type": "execute_result",
          "data": {
            "text/plain": [
              "141"
            ]
          },
          "metadata": {},
          "execution_count": 19
        }
      ]
    },
    {
      "cell_type": "code",
      "source": [
        "X_train=pad_sequences(X_train,padding='post',maxlen=50)\n",
        "X_test=pad_sequences(X_test,padding='post',maxlen=50)"
      ],
      "metadata": {
        "id": "V4BXFFaFisRN"
      },
      "execution_count": 20,
      "outputs": []
    },
    {
      "cell_type": "code",
      "source": [
        "X_train[0]"
      ],
      "metadata": {
        "colab": {
          "base_uri": "https://localhost:8080/"
        },
        "id": "SBmVdmsFi-U8",
        "outputId": "516b5cb1-3396-4d14-e033-a222e99b0af3"
      },
      "execution_count": 21,
      "outputs": [
        {
          "output_type": "execute_result",
          "data": {
            "text/plain": [
              "array([2071,   56,   26,  141,    6,  194, 7486,   18,    4,  226,   22,\n",
              "         21,  134,  476,   26,  480,    5,  144,   30, 5535,   18,   51,\n",
              "         36,   28,  224,   92,   25,  104,    4,  226,   65,   16,   38,\n",
              "       1334,   88,   12,   16,  283,    5,   16, 4472,  113,  103,   32,\n",
              "         15,   16, 5345,   19,  178,   32], dtype=int32)"
            ]
          },
          "metadata": {},
          "execution_count": 21
        }
      ]
    },
    {
      "cell_type": "code",
      "source": [
        "model=Sequential()\n",
        "model.add(SimpleRNN(32,input_shape=(50,1),return_sequences=False))\n",
        "model.add(Dense(1,activation='sigmoid'))\n",
        "model.summary()"
      ],
      "metadata": {
        "colab": {
          "base_uri": "https://localhost:8080/"
        },
        "id": "HvTNZxFUjBzU",
        "outputId": "39636b04-a96f-4c69-d541-01aeca6863cd"
      },
      "execution_count": 22,
      "outputs": [
        {
          "output_type": "stream",
          "name": "stdout",
          "text": [
            "Model: \"sequential\"\n",
            "_________________________________________________________________\n",
            " Layer (type)                Output Shape              Param #   \n",
            "=================================================================\n",
            " simple_rnn (SimpleRNN)      (None, 32)                1088      \n",
            "                                                                 \n",
            " dense (Dense)               (None, 1)                 33        \n",
            "                                                                 \n",
            "=================================================================\n",
            "Total params: 1121 (4.38 KB)\n",
            "Trainable params: 1121 (4.38 KB)\n",
            "Non-trainable params: 0 (0.00 Byte)\n",
            "_________________________________________________________________\n"
          ]
        }
      ]
    },
    {
      "cell_type": "code",
      "source": [
        "model.compile(loss='binary_crossentropy',optimizer='adam',metrics=['accuracy'])\n",
        "model.fit(X_train,y_train,epochs=5,validation_data=(X_test,y_test))"
      ],
      "metadata": {
        "colab": {
          "base_uri": "https://localhost:8080/"
        },
        "id": "J3GiY_66kEib",
        "outputId": "e2af9f91-787d-4136-f476-91e54bc60b76"
      },
      "execution_count": 23,
      "outputs": [
        {
          "output_type": "stream",
          "name": "stdout",
          "text": [
            "Epoch 1/5\n",
            "782/782 [==============================] - 12s 14ms/step - loss: 0.6956 - accuracy: 0.5008 - val_loss: 0.6941 - val_accuracy: 0.5025\n",
            "Epoch 2/5\n",
            "782/782 [==============================] - 12s 16ms/step - loss: 0.6930 - accuracy: 0.5063 - val_loss: 0.6943 - val_accuracy: 0.5054\n",
            "Epoch 3/5\n",
            "782/782 [==============================] - 13s 16ms/step - loss: 0.6930 - accuracy: 0.5058 - val_loss: 0.6942 - val_accuracy: 0.5098\n",
            "Epoch 4/5\n",
            "782/782 [==============================] - 11s 14ms/step - loss: 0.6932 - accuracy: 0.5026 - val_loss: 0.6940 - val_accuracy: 0.5020\n",
            "Epoch 5/5\n",
            "782/782 [==============================] - 15s 19ms/step - loss: 0.6928 - accuracy: 0.5045 - val_loss: 0.6947 - val_accuracy: 0.5014\n"
          ]
        },
        {
          "output_type": "execute_result",
          "data": {
            "text/plain": [
              "<keras.src.callbacks.History at 0x7c9c1ede09a0>"
            ]
          },
          "metadata": {},
          "execution_count": 23
        }
      ]
    },
    {
      "cell_type": "code",
      "source": [],
      "metadata": {
        "id": "NjVFbQEmk8Us"
      },
      "execution_count": null,
      "outputs": []
    }
  ]
}