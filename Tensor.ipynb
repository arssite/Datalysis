{
  "nbformat": 4,
  "nbformat_minor": 0,
  "metadata": {
    "colab": {
      "provenance": [],
      "authorship_tag": "ABX9TyMvsWRT552NPqxr6pA5VKSU",
      "include_colab_link": true
    },
    "kernelspec": {
      "name": "python3",
      "display_name": "Python 3"
    },
    "language_info": {
      "name": "python"
    }
  },
  "cells": [
    {
      "cell_type": "markdown",
      "metadata": {
        "id": "view-in-github",
        "colab_type": "text"
      },
      "source": [
        "<a href=\"https://colab.research.google.com/github/arssite/Datalysis/blob/main/Tensor.ipynb\" target=\"_parent\"><img src=\"https://colab.research.google.com/assets/colab-badge.svg\" alt=\"Open In Colab\"/></a>"
      ]
    },
    {
      "cell_type": "code",
      "execution_count": 1,
      "metadata": {
        "id": "YXLBf3MZRG3L"
      },
      "outputs": [],
      "source": [
        "import tensorflow as tf"
      ]
    },
    {
      "cell_type": "code",
      "source": [
        "import tensorflow as tf\n",
        "\n",
        "# Generate TensorFlow methods\n",
        "methods = [\n",
        "    \"abs\",\n",
        "    \"acos\",\n",
        "    \"acosh\",\n",
        "    \"add\",\n",
        "    \"add_n\",\n",
        "    \"argmax\",\n",
        "    \"argmin\",\n",
        "    \"asin\",\n",
        "    \"asinh\",\n",
        "    \"atan\",\n",
        "    \"atan2\",\n",
        "    \"atanh\",\n",
        "]\n",
        "\n",
        "# Print the methods\n",
        "for method in methods:\n",
        "    print(method)\n"
      ],
      "metadata": {
        "colab": {
          "base_uri": "https://localhost:8080/"
        },
        "id": "kMKvhkBBRsj7",
        "outputId": "01a35ab2-97c1-4169-9660-c0ce437c06c4"
      },
      "execution_count": 2,
      "outputs": [
        {
          "output_type": "stream",
          "name": "stdout",
          "text": [
            "abs\n",
            "acos\n",
            "acosh\n",
            "add\n",
            "add_n\n",
            "argmax\n",
            "argmin\n",
            "asin\n",
            "asinh\n",
            "atan\n",
            "atan2\n",
            "atanh\n"
          ]
        }
      ]
    },
    {
      "cell_type": "code",
      "source": [
        "import tensorflow as tf\n",
        "\n",
        "# Create a sample tensor (matrix)\n",
        "matrix = tf.constant([\n",
        "    [1, 2, 3],\n",
        "    [4, 5, 6],\n",
        "    [7, 8, 9]\n",
        "], dtype=tf.int32)\n",
        "\n",
        "# Get the shape of the tensor\n",
        "shape = tf.shape(matrix)\n",
        "rows, cols = shape[0], shape[1]\n",
        "\n",
        "# Flatten the tensor\n",
        "flattened_matrix = tf.reshape(matrix, [-1])\n",
        "\n",
        "# Iterate through the flattened tensor\n",
        "for i in tf.range(rows * cols):\n",
        "    element = flattened_matrix[i].numpy()  # .numpy() to convert tensor element to a Python integer\n",
        "    print(element)\n"
      ],
      "metadata": {
        "colab": {
          "base_uri": "https://localhost:8080/"
        },
        "id": "3jshh_w5R2e5",
        "outputId": "5ffcdab8-5e90-4c3f-b4f2-bbafe57eac4f"
      },
      "execution_count": 3,
      "outputs": [
        {
          "output_type": "stream",
          "name": "stdout",
          "text": [
            "1\n",
            "2\n",
            "3\n",
            "4\n",
            "5\n",
            "6\n",
            "7\n",
            "8\n",
            "9\n"
          ]
        }
      ]
    },
    {
      "cell_type": "code",
      "source": [
        "import tensorflow as tf\n",
        "\n",
        "# Create a constant tensor\n",
        "tensor = tf.constant([[1, 2], [3, 4], [5, 6]], dtype=tf.int32)\n",
        "\n",
        "# Create a tensor filled with zeros\n",
        "zeros = tf.zeros([3, 3], dtype=tf.float32)\n",
        "\n",
        "# Create a tensor filled with ones\n",
        "ones = tf.ones([2, 2], dtype=tf.float32)\n",
        "\n",
        "# Create a tensor with a specific shape filled with a specific value\n",
        "filled_tensor = tf.fill([2, 3], 7)\n"
      ],
      "metadata": {
        "id": "rLWwtCgYSVqa"
      },
      "execution_count": 4,
      "outputs": []
    },
    {
      "cell_type": "code",
      "source": [
        "# Reshape a tensor\n",
        "reshaped_tensor = tf.reshape(tensor, [2, 3])\n"
      ],
      "metadata": {
        "id": "Hr07BUDcSZ66"
      },
      "execution_count": 5,
      "outputs": []
    },
    {
      "cell_type": "code",
      "source": [
        "# Transpose a tensor\n",
        "transposed_tensor = tf.transpose(tensor)\n"
      ],
      "metadata": {
        "id": "1Vse4mL5SckK"
      },
      "execution_count": 6,
      "outputs": []
    },
    {
      "cell_type": "code",
      "source": [
        "# Access specific elements\n",
        "element = tensor[1, 1]  # 4\n"
      ],
      "metadata": {
        "id": "TxYvzK78SewK"
      },
      "execution_count": 7,
      "outputs": []
    },
    {
      "cell_type": "code",
      "source": [
        "# Slice a tensor\n",
        "sliced_tensor = tensor[:, 1]  # [2, 4, 6]\n"
      ],
      "metadata": {
        "id": "8mxzDy_CSjy9"
      },
      "execution_count": 8,
      "outputs": []
    },
    {
      "cell_type": "code",
      "source": [
        "# Element-wise addition\n",
        "add_result = tf.add(tensor, tensor)\n",
        "\n",
        "# Element-wise subtraction\n",
        "sub_result = tf.subtract(tensor, tensor)\n",
        "\n",
        "# Element-wise multiplication\n",
        "mul_result = tf.multiply(tensor, tensor)\n",
        "\n",
        "# Element-wise division\n",
        "div_result = tf.divide(tensor, tensor)\n"
      ],
      "metadata": {
        "id": "_nLX2dScSkSq"
      },
      "execution_count": 9,
      "outputs": []
    },
    {
      "cell_type": "code",
      "source": [
        "# Matrix multiplication\n",
        "matrix1 = tf.constant([[1, 2], [3, 4]])\n",
        "matrix2 = tf.constant([[5, 6], [7, 8]])\n",
        "matmul_result = tf.matmul(matrix1, matrix2)\n"
      ],
      "metadata": {
        "id": "JM1XPsgjSoe6"
      },
      "execution_count": 10,
      "outputs": []
    },
    {
      "cell_type": "code",
      "source": [
        "# Sum of all elements\n",
        "sum_result = tf.reduce_sum(tensor)\n",
        "\n",
        "# Sum along specific axes\n",
        "sum_result_axis0 = tf.reduce_sum(tensor, axis=0)\n",
        "sum_result_axis1 = tf.reduce_sum(tensor, axis=1)\n"
      ],
      "metadata": {
        "id": "G6UrcEUTSqWK"
      },
      "execution_count": 11,
      "outputs": []
    },
    {
      "cell_type": "code",
      "source": [
        "# Mean of all elements\n",
        "mean_result = tf.reduce_mean(tensor)\n",
        "\n",
        "# Mean along specific axes\n",
        "mean_result_axis0 = tf.reduce_mean(tensor, axis=0)\n",
        "mean_result_axis1 = tf.reduce_mean(tensor, axis=1)\n"
      ],
      "metadata": {
        "id": "sqloNyIPSrxq"
      },
      "execution_count": 12,
      "outputs": []
    },
    {
      "cell_type": "code",
      "source": [
        "# Broadcasting addition\n",
        "broadcast_result = tensor + tf.constant([1, 2])\n"
      ],
      "metadata": {
        "id": "g0vdwuvjSxDL"
      },
      "execution_count": 13,
      "outputs": []
    },
    {
      "cell_type": "code",
      "source": [
        "# Concatenate tensors\n",
        "tensor1 = tf.constant([[1, 2], [3, 4]])\n",
        "tensor2 = tf.constant([[5, 6], [7, 8]])\n",
        "concat_result = tf.concat([tensor1, tensor2], axis=0)\n"
      ],
      "metadata": {
        "id": "M0VIrLf5Sy76"
      },
      "execution_count": 14,
      "outputs": []
    },
    {
      "cell_type": "code",
      "source": [
        "# Stack tensors\n",
        "stack_result = tf.stack([tensor1, tensor2], axis=0)\n"
      ],
      "metadata": {
        "id": "pUL07J3NS1G7"
      },
      "execution_count": 15,
      "outputs": []
    },
    {
      "cell_type": "code",
      "source": [
        "# Split a tensor\n",
        "#split_result = tf.split(tensor, num_or_size_splits=2, axis=0)\n",
        "# Split a tensor along axis 1 instead\n",
        "split_result = tf.split(tensor, num_or_size_splits=2, axis=1)"
      ],
      "metadata": {
        "id": "T_e09FkcS3Dq"
      },
      "execution_count": 18,
      "outputs": []
    },
    {
      "cell_type": "code",
      "source": [
        "# Create a dataset from a tensor\n",
        "dataset = tf.data.Dataset.from_tensor_slices(tensor)\n",
        "\n",
        "# Iterate through the dataset\n",
        "for element in dataset:\n",
        "    print(element.numpy())\n"
      ],
      "metadata": {
        "colab": {
          "base_uri": "https://localhost:8080/"
        },
        "id": "mR-dlU-YS7e0",
        "outputId": "b2bce1d4-7f1a-4bf9-b700-a948ea54de5d"
      },
      "execution_count": 17,
      "outputs": [
        {
          "output_type": "stream",
          "name": "stdout",
          "text": [
            "[1 2]\n",
            "[3 4]\n",
            "[5 6]\n"
          ]
        }
      ]
    },
    {
      "cell_type": "code",
      "source": [],
      "metadata": {
        "id": "wJPiiXIAS4i6"
      },
      "execution_count": null,
      "outputs": []
    }
  ]
}