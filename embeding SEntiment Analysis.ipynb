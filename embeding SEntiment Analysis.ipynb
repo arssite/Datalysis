{
  "nbformat": 4,
  "nbformat_minor": 0,
  "metadata": {
    "colab": {
      "provenance": [],
      "gpuType": "T4",
      "include_colab_link": true
    },
    "kernelspec": {
      "name": "python3",
      "display_name": "Python 3"
    },
    "language_info": {
      "name": "python"
    },
    "accelerator": "GPU"
  },
  "cells": [
    {
      "cell_type": "markdown",
      "metadata": {
        "id": "view-in-github",
        "colab_type": "text"
      },
      "source": [
        "<a href=\"https://colab.research.google.com/github/arssite/Datalysis/blob/main/embeding%20SEntiment%20Analysis.ipynb\" target=\"_parent\"><img src=\"https://colab.research.google.com/assets/colab-badge.svg\" alt=\"Open In Colab\"/></a>"
      ]
    },
    {
      "cell_type": "markdown",
      "source": [
        "# Embedding\n",
        "It is a technique in deep learning used to represent categorical variables as vectors of real numbers. This allows the model to learn relationships between different categories and use them for prediction or classification tasks.\n",
        "\n",
        "Benefits of using embedding:\n",
        "\n",
        "Reduced dimensionality: Embeddings are typically lower-dimensional than the original categorical variables, which can improve computational efficiency and reduce overfitting.\n",
        "Improved interpretability: Embeddings can be visualized to understand the relationships between different categories.\n",
        "Increased flexibility: Embeddings can be used with a variety of deep learning models, including convolutional neural networks (CNNs) and recurrent neural networks (RNNs).\n",
        "How embedding works:\n",
        "\n",
        "One-hot encoding: The first step is to convert the categorical variables into one-hot encoded vectors. This means that each category is represented by a vector of zeros, except for the position corresponding to the category, which is set to 1.\n",
        "Embedding layer: The one-hot encoded vectors are then passed through an embedding layer. This layer is a neural network that learns a mapping from the one-hot encoded vectors to a lower-dimensional space.\n",
        "Output: The output of the embedding layer is a vector of real numbers for each category. These vectors can then be used as input to other deep learning models.\n",
        "Applications of embedding:\n",
        "\n",
        "Natural language processing: Embeddings are commonly used in natural language processing tasks such as sentiment analysis, text classification, and machine translation.\n",
        "Computer vision: Embeddings can also be used in computer vision tasks such as image classification and object detection.\n",
        "Recommendation systems: Embeddings can be used to learn user preferences and recommend items that the user is likely to be interested in."
      ],
      "metadata": {
        "id": "bouSs0h_vkG2"
      }
    },
    {
      "cell_type": "code",
      "execution_count": 4,
      "metadata": {
        "id": "yRHqshyNq4Zy"
      },
      "outputs": [],
      "source": [
        "import numpy as np"
      ]
    },
    {
      "cell_type": "code",
      "source": [
        "docs = ['go india',\n",
        "'india india',\n",
        "'hip hip hurray',\n",
        "'jeetega bhai jeetega india jeetega',\n",
        " 'dhoni dhoni',\n",
        "  'modi ji ki jai']"
      ],
      "metadata": {
        "id": "Bhe9TTE2rMqq"
      },
      "execution_count": 5,
      "outputs": []
    },
    {
      "cell_type": "code",
      "source": [
        "from keras.preprocessing.text import Tokenizer\n",
        "tokenizer = Tokenizer(oov_token='<nothing>')"
      ],
      "metadata": {
        "id": "y5Gop-hQrMup"
      },
      "execution_count": 6,
      "outputs": []
    },
    {
      "cell_type": "code",
      "source": [
        "tokenizer.fit_on_texts(docs)"
      ],
      "metadata": {
        "id": "j2q24U0PrMyB"
      },
      "execution_count": 7,
      "outputs": []
    },
    {
      "cell_type": "code",
      "source": [
        "len(tokenizer.word_index)"
      ],
      "metadata": {
        "colab": {
          "base_uri": "https://localhost:8080/"
        },
        "id": "eZsQis5IrM1B",
        "outputId": "c8093c27-1307-438c-e220-fefc0ca03134"
      },
      "execution_count": 8,
      "outputs": [
        {
          "output_type": "execute_result",
          "data": {
            "text/plain": [
              "12"
            ]
          },
          "metadata": {},
          "execution_count": 8
        }
      ]
    },
    {
      "cell_type": "code",
      "source": [
        "sequences = tokenizer.texts_to_sequences(docs)\n",
        "sequences"
      ],
      "metadata": {
        "colab": {
          "base_uri": "https://localhost:8080/"
        },
        "id": "aJwbfgjtrM35",
        "outputId": "10f89d18-d273-4bde-face-e6bd803aabf1"
      },
      "execution_count": 9,
      "outputs": [
        {
          "output_type": "execute_result",
          "data": {
            "text/plain": [
              "[[6, 2], [2, 2], [4, 4, 7], [3, 8, 3, 2, 3], [5, 5], [9, 10, 11, 12]]"
            ]
          },
          "metadata": {},
          "execution_count": 9
        }
      ]
    },
    {
      "cell_type": "code",
      "source": [
        "from keras.utils import pad_sequences\n",
        "sequences = pad_sequences(sequences,padding='post')\n",
        "sequences"
      ],
      "metadata": {
        "colab": {
          "base_uri": "https://localhost:8080/"
        },
        "id": "udMrUv1WrM7B",
        "outputId": "6bb8b2a2-c6f8-4274-a1fb-854a1b6bb168"
      },
      "execution_count": 10,
      "outputs": [
        {
          "output_type": "execute_result",
          "data": {
            "text/plain": [
              "array([[ 6,  2,  0,  0,  0],\n",
              "       [ 2,  2,  0,  0,  0],\n",
              "       [ 4,  4,  7,  0,  0],\n",
              "       [ 3,  8,  3,  2,  3],\n",
              "       [ 5,  5,  0,  0,  0],\n",
              "       [ 9, 10, 11, 12,  0]], dtype=int32)"
            ]
          },
          "metadata": {},
          "execution_count": 10
        }
      ]
    },
    {
      "cell_type": "code",
      "source": [
        "from keras.datasets import imdb\n",
        "from keras import Sequential\n",
        "from keras.layers import Dense,SimpleRNN,Embedding,Flatten"
      ],
      "metadata": {
        "id": "lUuN61YZrM95"
      },
      "execution_count": 11,
      "outputs": []
    },
    {
      "cell_type": "code",
      "source": [
        "model = Sequential()\n",
        "model.add(Embedding(17,output_dim=2,input_length=5))\n",
        "model.summary()"
      ],
      "metadata": {
        "colab": {
          "base_uri": "https://localhost:8080/"
        },
        "id": "R09SoXbWrNBB",
        "outputId": "1c6f1038-c966-4388-c6aa-8facf4f56430"
      },
      "execution_count": 12,
      "outputs": [
        {
          "output_type": "stream",
          "name": "stdout",
          "text": [
            "Model: \"sequential\"\n",
            "_________________________________________________________________\n",
            " Layer (type)                Output Shape              Param #   \n",
            "=================================================================\n",
            " embedding (Embedding)       (None, 5, 2)              34        \n",
            "                                                                 \n",
            "=================================================================\n",
            "Total params: 34 (136.00 Byte)\n",
            "Trainable params: 34 (136.00 Byte)\n",
            "Non-trainable params: 0 (0.00 Byte)\n",
            "_________________________________________________________________\n"
          ]
        }
      ]
    },
    {
      "cell_type": "code",
      "source": [
        "model.compile('adam','accuracy')"
      ],
      "metadata": {
        "id": "VPT-kU6zrNEC"
      },
      "execution_count": 13,
      "outputs": []
    },
    {
      "cell_type": "code",
      "source": [
        "pred = model.predict(sequences)\n",
        "print(pred)"
      ],
      "metadata": {
        "colab": {
          "base_uri": "https://localhost:8080/"
        },
        "id": "VgPmTe8jrNHL",
        "outputId": "d8740e35-36c7-42fb-a2b5-9a39a0102da5"
      },
      "execution_count": 14,
      "outputs": [
        {
          "output_type": "stream",
          "name": "stdout",
          "text": [
            "1/1 [==============================] - 0s 115ms/step\n",
            "[[[ 0.04353037  0.00011192]\n",
            "  [-0.04645824  0.02322154]\n",
            "  [ 0.00037122  0.03879831]\n",
            "  [ 0.00037122  0.03879831]\n",
            "  [ 0.00037122  0.03879831]]\n",
            "\n",
            " [[-0.04645824  0.02322154]\n",
            "  [-0.04645824  0.02322154]\n",
            "  [ 0.00037122  0.03879831]\n",
            "  [ 0.00037122  0.03879831]\n",
            "  [ 0.00037122  0.03879831]]\n",
            "\n",
            " [[-0.04866872 -0.04749271]\n",
            "  [-0.04866872 -0.04749271]\n",
            "  [ 0.03550485  0.02391482]\n",
            "  [ 0.00037122  0.03879831]\n",
            "  [ 0.00037122  0.03879831]]\n",
            "\n",
            " [[-0.03303814 -0.00399654]\n",
            "  [ 0.04279479  0.01491255]\n",
            "  [-0.03303814 -0.00399654]\n",
            "  [-0.04645824  0.02322154]\n",
            "  [-0.03303814 -0.00399654]]\n",
            "\n",
            " [[ 0.0083076   0.04349715]\n",
            "  [ 0.0083076   0.04349715]\n",
            "  [ 0.00037122  0.03879831]\n",
            "  [ 0.00037122  0.03879831]\n",
            "  [ 0.00037122  0.03879831]]\n",
            "\n",
            " [[-0.03364438  0.04920533]\n",
            "  [-0.00880472 -0.03475223]\n",
            "  [-0.01579145  0.03632288]\n",
            "  [ 0.00536276  0.03095433]\n",
            "  [ 0.00037122  0.03879831]]]\n"
          ]
        }
      ]
    },
    {
      "cell_type": "code",
      "source": [
        "from keras.datasets import imdb\n",
        "from keras.preprocessing.text import Tokenizer\n",
        "from keras.utils import pad_sequences\n",
        "from keras import Sequential\n",
        "from keras.layers import Dense,SimpleRNN,Embedding,Flatten\n"
      ],
      "metadata": {
        "id": "_0WFt4ulrNKK"
      },
      "execution_count": 15,
      "outputs": []
    },
    {
      "cell_type": "code",
      "source": [
        "(X_train,y_train),(X_test,y_test) = imdb.load_data()"
      ],
      "metadata": {
        "id": "75KpN_rN6y-m",
        "colab": {
          "base_uri": "https://localhost:8080/"
        },
        "outputId": "b8e5eeab-8f8f-4632-90bc-0233700f168c"
      },
      "execution_count": 16,
      "outputs": [
        {
          "output_type": "stream",
          "name": "stdout",
          "text": [
            "Downloading data from https://storage.googleapis.com/tensorflow/tf-keras-datasets/imdb.npz\n",
            "17464789/17464789 [==============================] - 0s 0us/step\n"
          ]
        }
      ]
    },
    {
      "cell_type": "code",
      "source": [
        "X_train = pad_sequences(X_train,padding='post',maxlen=50)\n",
        "X_test = pad_sequences(X_test,padding='post',maxlen=50)\n"
      ],
      "metadata": {
        "id": "3lspbEow6zHW"
      },
      "execution_count": 17,
      "outputs": []
    },
    {
      "cell_type": "code",
      "source": [
        "X_train.shape"
      ],
      "metadata": {
        "colab": {
          "base_uri": "https://localhost:8080/"
        },
        "id": "GJXLsYvB6zNv",
        "outputId": "bb6d3350-7874-4512-888c-602a199ab8df"
      },
      "execution_count": 18,
      "outputs": [
        {
          "output_type": "execute_result",
          "data": {
            "text/plain": [
              "(25000, 50)"
            ]
          },
          "metadata": {},
          "execution_count": 18
        }
      ]
    },
    {
      "cell_type": "code",
      "source": [
        "model = Sequential()\n",
        "#model.add(Embedding(1000,2,50))\n",
        "model.add(Embedding(1000,output_dim=2,input_length=50))\n",
        "model.add(SimpleRNN(32,return_sequences=False))\n",
        "model.add(Dense(1,activation='sigmoid'))\n",
        "model.summary()\n"
      ],
      "metadata": {
        "id": "hNrYGa3T6zV-",
        "colab": {
          "base_uri": "https://localhost:8080/"
        },
        "outputId": "5edb0f2c-bd6e-4892-eaca-95815b644aab"
      },
      "execution_count": 19,
      "outputs": [
        {
          "output_type": "stream",
          "name": "stdout",
          "text": [
            "Model: \"sequential_1\"\n",
            "_________________________________________________________________\n",
            " Layer (type)                Output Shape              Param #   \n",
            "=================================================================\n",
            " embedding_1 (Embedding)     (None, 50, 2)             2000      \n",
            "                                                                 \n",
            " simple_rnn (SimpleRNN)      (None, 32)                1120      \n",
            "                                                                 \n",
            " dense (Dense)               (None, 1)                 33        \n",
            "                                                                 \n",
            "=================================================================\n",
            "Total params: 3153 (12.32 KB)\n",
            "Trainable params: 3153 (12.32 KB)\n",
            "Non-trainable params: 0 (0.00 Byte)\n",
            "_________________________________________________________________\n"
          ]
        }
      ]
    },
    {
      "cell_type": "code",
      "source": [
        "from keras.utils import plot_model\n",
        "plot_model(model)"
      ],
      "metadata": {
        "colab": {
          "base_uri": "https://localhost:8080/",
          "height": 369
        },
        "id": "HPyfgc_gD55z",
        "outputId": "80a71409-155e-49ce-c216-77b5b751a512"
      },
      "execution_count": 20,
      "outputs": [
        {
          "output_type": "execute_result",
          "data": {
            "image/png": "[encoded data removed]",
            "text/plain": [
              "<IPython.core.display.Image object>"
            ]
          },
          "metadata": {},
          "execution_count": 20
        }
      ]
    },
    {
      "cell_type": "code",
      "source": [
        "model.compile(optimizer='adam',loss='binary_crossentropy', metrics=['acc'])"
      ],
      "metadata": {
        "id": "9ficuBpwrNNi"
      },
      "execution_count": 21,
      "outputs": []
    },
    {
      "cell_type": "code",
      "source": [
        "history=model.fit(X_train,y_train,epochs=5,validation_data=(X_test,y_test))"
      ],
      "metadata": {
        "id": "G5OxehqWrNQ6",
        "colab": {
          "base_uri": "https://localhost:8080/"
        },
        "outputId": "4e3c46ce-82fb-4e3f-a5f6-ba99998112a2"
      },
      "execution_count": null,
      "outputs": [
        {
          "output_type": "stream",
          "name": "stdout",
          "text": [
            "Epoch 1/5\n",
            "782/782 [==============================] - 60s 73ms/step - loss: 0.6324 - acc: 0.6141 - val_loss: 0.5117 - val_acc: 0.7554\n",
            "Epoch 2/5\n",
            "782/782 [==============================] - 41s 52ms/step - loss: 0.4728 - acc: 0.7776 - val_loss: 0.4593 - val_acc: 0.7848\n",
            "Epoch 3/5\n",
            "782/782 [==============================] - 41s 53ms/step - loss: 0.4485 - acc: 0.7930 - val_loss: 0.5169 - val_acc: 0.7430\n",
            "Epoch 4/5\n",
            "782/782 [==============================] - 40s 51ms/step - loss: 0.4443 - acc: 0.7954 - val_loss: 0.4582 - val_acc: 0.7854\n",
            "Epoch 5/5\n",
            "782/782 [==============================] - 39s 50ms/step - loss: 0.4408 - acc: 0.8000 - val_loss: 0.4605 - val_acc: 0.7852\n"
          ]
        }
      ]
    }
  ]
}